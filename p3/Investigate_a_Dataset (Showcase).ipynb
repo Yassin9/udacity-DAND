{
 "cells": [
  {
   "cell_type": "markdown",
   "metadata": {},
   "source": [
    "# Project: Investigating No-Show Appointments in Brazil - May 2016\n",
    "\n",
    "## Table of Contents\n",
    "<ul>\n",
    "<li><a href=\"#intro\">Introduction</a></li>\n",
    "<li><a href=\"#wrangling\">Data Wrangling</a></li>\n",
    "<li><a href=\"#eda\">Exploratory Data Analysis</a></li>\n",
    "<li><a href=\"#conclusions\">Conclusions</a></li>\n",
    "</ul>"
   ]
  },
  {
   "cell_type": "markdown",
   "metadata": {},
   "source": [
    "<a id='intro'></a>\n",
    "## Introduction\n",
    "\n",
    "> What if it was possible to predict someone for a no-show, medical appointment? By analyzing around 100k medical appointments from Brazil in 2016, we can determine what factors influence patients to show up or not show up to their appointments. We will analyze 14 variables, where the variable headers are self-explanatory. The variable that we are most interested in is the No-show variable, where no means they did not show up to an appointment and yes means they did show up. This is also the dependent variable that is dependent upon any of the other independent variables. The scholarship variable could be found with the following link for more information:\n",
    "\n",
    "> https://en.wikipedia.org/wiki/Bolsa_Fam%C3%ADlia"
   ]
  },
  {
   "cell_type": "markdown",
   "metadata": {},
   "source": [
    "<a id='pose_questions'></a>\n",
    "## Posing Questions\n",
    "\n",
    "**Question 1**: What factors are important for us to know in order to predict if a patient will show up for their scheduled appointment?\n",
    "\n",
    "To answer this question, we will be mainly looking at 5 variables with a focus on 3 of the 5 variables. First, we will compare the variables schoarlships, SMS_received, and alcoholism to the no-show variable to determine if the patient is influenced by one of the three variables stated. Then we will compare the relationship between the three variables. Lastly, we will compare the gender and age group with the no-show variable. "
   ]
  },
  {
   "cell_type": "code",
   "execution_count": 1,
   "metadata": {
    "collapsed": true
   },
   "outputs": [],
   "source": [
    "# import all necessary packages and functions\n",
    "import pandas as pd\n",
    "import matplotlib.pyplot as plt\n",
    "\n",
    "# See this page for more details on using the magic word to graph all visualizations\n",
    "#   http://ipython.readthedocs.io/en/stable/interactive/magics.html\n"
   ]
  },
  {
   "cell_type": "markdown",
   "metadata": {},
   "source": [
    "<a id='wrangling'></a>\n",
    "## Data Wrangling\n",
    "\n",
    "### General Properties"
   ]
  },
  {
   "cell_type": "markdown",
   "metadata": {
    "scrolled": true
   },
   "source": [
    "In this section, we will load the data and print out a few lines. Next, perform operations to inspect data types and look for instances of missing or possibly errant data."
   ]
  },
  {
   "cell_type": "code",
   "execution_count": 2,
   "metadata": {
    "scrolled": true
   },
   "outputs": [
    {
     "name": "stdout",
     "output_type": "stream",
     "text": [
      "<class 'pandas.core.frame.DataFrame'>\n",
      "RangeIndex: 110527 entries, 0 to 110526\n",
      "Data columns (total 14 columns):\n",
      "PatientId         110527 non-null float64\n",
      "AppointmentID     110527 non-null int64\n",
      "Gender            110527 non-null object\n",
      "ScheduledDay      110527 non-null object\n",
      "AppointmentDay    110527 non-null object\n",
      "Age               110527 non-null int64\n",
      "Neighbourhood     110527 non-null object\n",
      "Scholarship       110527 non-null int64\n",
      "Hipertension      110527 non-null int64\n",
      "Diabetes          110527 non-null int64\n",
      "Alcoholism        110527 non-null int64\n",
      "Handcap           110527 non-null int64\n",
      "SMS_received      110527 non-null int64\n",
      "No-show           110527 non-null object\n",
      "dtypes: float64(1), int64(8), object(5)\n",
      "memory usage: 11.8+ MB\n"
     ]
    }
   ],
   "source": [
    "## This function will check what type of data each column is as well as how many rows by columns.\n",
    "df = pd.read_csv('noshowappointments-kagglev2-may-2016.csv.csv')\n",
    "df.info()"
   ]
  },
  {
   "cell_type": "code",
   "execution_count": 3,
   "metadata": {},
   "outputs": [
    {
     "data": {
      "text/plain": [
       "PatientId          62299\n",
       "AppointmentID     110527\n",
       "Gender                 2\n",
       "ScheduledDay      103549\n",
       "AppointmentDay        27\n",
       "Age                  104\n",
       "Neighbourhood         81\n",
       "Scholarship            2\n",
       "Hipertension           2\n",
       "Diabetes               2\n",
       "Alcoholism             2\n",
       "Handcap                5\n",
       "SMS_received           2\n",
       "No-show                2\n",
       "dtype: int64"
      ]
     },
     "execution_count": 3,
     "metadata": {},
     "output_type": "execute_result"
    }
   ],
   "source": [
    "## This function allows me to get an estimate of how many values are in each category and \n",
    "## thus, whether I need to clean up any data.\n",
    "df.nunique()"
   ]
  },
  {
   "cell_type": "code",
   "execution_count": 4,
   "metadata": {},
   "outputs": [
    {
     "data": {
      "text/plain": [
       "PatientId         0\n",
       "AppointmentID     0\n",
       "Gender            0\n",
       "ScheduledDay      0\n",
       "AppointmentDay    0\n",
       "Age               0\n",
       "Neighbourhood     0\n",
       "Scholarship       0\n",
       "Hipertension      0\n",
       "Diabetes          0\n",
       "Alcoholism        0\n",
       "Handcap           0\n",
       "SMS_received      0\n",
       "No-show           0\n",
       "dtype: int64"
      ]
     },
     "execution_count": 4,
     "metadata": {},
     "output_type": "execute_result"
    }
   ],
   "source": [
    "# check for any missing or null values in dataset \n",
    "df.isnull().sum()"
   ]
  },
  {
   "cell_type": "code",
   "execution_count": 5,
   "metadata": {},
   "outputs": [
    {
     "name": "stdout",
     "output_type": "stream",
     "text": [
      "0\n"
     ]
    }
   ],
   "source": [
    "# check to make sure there is no duplicated data\n",
    "print(sum(df.duplicated()))"
   ]
  },
  {
   "cell_type": "code",
   "execution_count": 6,
   "metadata": {},
   "outputs": [
    {
     "data": {
      "text/plain": [
       "115"
      ]
     },
     "execution_count": 6,
     "metadata": {},
     "output_type": "execute_result"
    }
   ],
   "source": [
    "# This will allow me to check for the parameters of the Age column so that \n",
    "# we can use it for a later exploration\n",
    "df.Age.max()"
   ]
  },
  {
   "cell_type": "code",
   "execution_count": 7,
   "metadata": {},
   "outputs": [
    {
     "data": {
      "text/plain": [
       "-1"
      ]
     },
     "execution_count": 7,
     "metadata": {},
     "output_type": "execute_result"
    }
   ],
   "source": [
    "df.Age.min()"
   ]
  },
  {
   "cell_type": "markdown",
   "metadata": {},
   "source": [
    "### Data Cleaning"
   ]
  },
  {
   "cell_type": "markdown",
   "metadata": {},
   "source": [
    "With all the data mostly clean and no need to drop duplicates or replace missing values, we can focus mostly on the 5 variables that need to be analyzed. There is no need to make changes to the patient appointment times or neighborhood. We are interested in the variables that have only 2 unique values. The age of -1 is not a valid age so we need to drop this. Also, the column names need to be consistent with underscores in place of spaces. Some column names are spelled wrong as well. We will create bins for Ages so that we can use it on a later exploratory graph. Lastly, we are going to replace the Gender column with values of 0 and 1 to be consistent with other data."
   ]
  },
  {
   "cell_type": "code",
   "execution_count": 9,
   "metadata": {},
   "outputs": [
    {
     "data": {
      "text/html": [
       "<div>\n",
       "<style>\n",
       "    .dataframe thead tr:only-child th {\n",
       "        text-align: right;\n",
       "    }\n",
       "\n",
       "    .dataframe thead th {\n",
       "        text-align: left;\n",
       "    }\n",
       "\n",
       "    .dataframe tbody tr th {\n",
       "        vertical-align: top;\n",
       "    }\n",
       "</style>\n",
       "<table border=\"1\" class=\"dataframe\">\n",
       "  <thead>\n",
       "    <tr style=\"text-align: right;\">\n",
       "      <th></th>\n",
       "      <th>PatientId</th>\n",
       "      <th>AppointmentID</th>\n",
       "      <th>Gender</th>\n",
       "      <th>ScheduledDay</th>\n",
       "      <th>AppointmentDay</th>\n",
       "      <th>Age</th>\n",
       "      <th>Neighbourhood</th>\n",
       "      <th>Scholarship</th>\n",
       "      <th>Hipertension</th>\n",
       "      <th>Diabetes</th>\n",
       "      <th>Alcoholism</th>\n",
       "      <th>Handcap</th>\n",
       "      <th>SMS_received</th>\n",
       "      <th>No-show</th>\n",
       "    </tr>\n",
       "  </thead>\n",
       "  <tbody>\n",
       "    <tr>\n",
       "      <th>99832</th>\n",
       "      <td>4.659432e+14</td>\n",
       "      <td>5775010</td>\n",
       "      <td>F</td>\n",
       "      <td>2016-06-06T08:58:13Z</td>\n",
       "      <td>2016-06-06T00:00:00Z</td>\n",
       "      <td>-1</td>\n",
       "      <td>ROMÃO</td>\n",
       "      <td>0</td>\n",
       "      <td>0</td>\n",
       "      <td>0</td>\n",
       "      <td>0</td>\n",
       "      <td>0</td>\n",
       "      <td>0</td>\n",
       "      <td>No</td>\n",
       "    </tr>\n",
       "  </tbody>\n",
       "</table>\n",
       "</div>"
      ],
      "text/plain": [
       "          PatientId  AppointmentID Gender          ScheduledDay  \\\n",
       "99832  4.659432e+14        5775010      F  2016-06-06T08:58:13Z   \n",
       "\n",
       "             AppointmentDay  Age Neighbourhood  Scholarship  Hipertension  \\\n",
       "99832  2016-06-06T00:00:00Z   -1         ROMÃO            0             0   \n",
       "\n",
       "       Diabetes  Alcoholism  Handcap  SMS_received No-show  \n",
       "99832         0           0        0             0      No  "
      ]
     },
     "execution_count": 9,
     "metadata": {},
     "output_type": "execute_result"
    }
   ],
   "source": [
    "# Query where the Age is -1.\n",
    "df.query('Age == \"-1\"')"
   ]
  },
  {
   "cell_type": "code",
   "execution_count": 41,
   "metadata": {},
   "outputs": [],
   "source": [
    "# Drop the Age row where it is -1\n",
    "df = df.drop(df.index[99832])"
   ]
  },
  {
   "cell_type": "code",
   "execution_count": 11,
   "metadata": {},
   "outputs": [
    {
     "name": "stdout",
     "output_type": "stream",
     "text": [
      "<class 'pandas.core.frame.DataFrame'>\n",
      "Int64Index: 110526 entries, 0 to 110526\n",
      "Data columns (total 14 columns):\n",
      "PatientId         110526 non-null float64\n",
      "AppointmentID     110526 non-null int64\n",
      "Gender            110526 non-null object\n",
      "ScheduledDay      110526 non-null object\n",
      "AppointmentDay    110526 non-null object\n",
      "Age               110526 non-null int64\n",
      "Neighbourhood     110526 non-null object\n",
      "Scholarship       110526 non-null int64\n",
      "Hipertension      110526 non-null int64\n",
      "Diabetes          110526 non-null int64\n",
      "Alcoholism        110526 non-null int64\n",
      "Handcap           110526 non-null int64\n",
      "SMS_received      110526 non-null int64\n",
      "No-show           110526 non-null object\n",
      "dtypes: float64(1), int64(8), object(5)\n",
      "memory usage: 12.6+ MB\n"
     ]
    }
   ],
   "source": [
    "# confirm changes\n",
    "df.info()"
   ]
  },
  {
   "cell_type": "code",
   "execution_count": 12,
   "metadata": {},
   "outputs": [
    {
     "data": {
      "text/html": [
       "<div>\n",
       "<style>\n",
       "    .dataframe thead tr:only-child th {\n",
       "        text-align: right;\n",
       "    }\n",
       "\n",
       "    .dataframe thead th {\n",
       "        text-align: left;\n",
       "    }\n",
       "\n",
       "    .dataframe tbody tr th {\n",
       "        vertical-align: top;\n",
       "    }\n",
       "</style>\n",
       "<table border=\"1\" class=\"dataframe\">\n",
       "  <thead>\n",
       "    <tr style=\"text-align: right;\">\n",
       "      <th></th>\n",
       "      <th>Patient_id</th>\n",
       "      <th>Appointment_id</th>\n",
       "      <th>Gender</th>\n",
       "      <th>Scheduled_day</th>\n",
       "      <th>Appointment_day</th>\n",
       "      <th>Age</th>\n",
       "      <th>Neighborhood</th>\n",
       "      <th>Scholarship</th>\n",
       "      <th>Hypertension</th>\n",
       "      <th>Diabetes</th>\n",
       "      <th>Alcoholism</th>\n",
       "      <th>Handicap</th>\n",
       "      <th>SMS_received</th>\n",
       "      <th>No_show</th>\n",
       "    </tr>\n",
       "  </thead>\n",
       "  <tbody>\n",
       "    <tr>\n",
       "      <th>0</th>\n",
       "      <td>2.987250e+13</td>\n",
       "      <td>5642903</td>\n",
       "      <td>F</td>\n",
       "      <td>2016-04-29T18:38:08Z</td>\n",
       "      <td>2016-04-29T00:00:00Z</td>\n",
       "      <td>62</td>\n",
       "      <td>JARDIM DA PENHA</td>\n",
       "      <td>0</td>\n",
       "      <td>1</td>\n",
       "      <td>0</td>\n",
       "      <td>0</td>\n",
       "      <td>0</td>\n",
       "      <td>0</td>\n",
       "      <td>No</td>\n",
       "    </tr>\n",
       "    <tr>\n",
       "      <th>1</th>\n",
       "      <td>5.589978e+14</td>\n",
       "      <td>5642503</td>\n",
       "      <td>M</td>\n",
       "      <td>2016-04-29T16:08:27Z</td>\n",
       "      <td>2016-04-29T00:00:00Z</td>\n",
       "      <td>56</td>\n",
       "      <td>JARDIM DA PENHA</td>\n",
       "      <td>0</td>\n",
       "      <td>0</td>\n",
       "      <td>0</td>\n",
       "      <td>0</td>\n",
       "      <td>0</td>\n",
       "      <td>0</td>\n",
       "      <td>No</td>\n",
       "    </tr>\n",
       "    <tr>\n",
       "      <th>2</th>\n",
       "      <td>4.262962e+12</td>\n",
       "      <td>5642549</td>\n",
       "      <td>F</td>\n",
       "      <td>2016-04-29T16:19:04Z</td>\n",
       "      <td>2016-04-29T00:00:00Z</td>\n",
       "      <td>62</td>\n",
       "      <td>MATA DA PRAIA</td>\n",
       "      <td>0</td>\n",
       "      <td>0</td>\n",
       "      <td>0</td>\n",
       "      <td>0</td>\n",
       "      <td>0</td>\n",
       "      <td>0</td>\n",
       "      <td>No</td>\n",
       "    </tr>\n",
       "    <tr>\n",
       "      <th>3</th>\n",
       "      <td>8.679512e+11</td>\n",
       "      <td>5642828</td>\n",
       "      <td>F</td>\n",
       "      <td>2016-04-29T17:29:31Z</td>\n",
       "      <td>2016-04-29T00:00:00Z</td>\n",
       "      <td>8</td>\n",
       "      <td>PONTAL DE CAMBURI</td>\n",
       "      <td>0</td>\n",
       "      <td>0</td>\n",
       "      <td>0</td>\n",
       "      <td>0</td>\n",
       "      <td>0</td>\n",
       "      <td>0</td>\n",
       "      <td>No</td>\n",
       "    </tr>\n",
       "    <tr>\n",
       "      <th>4</th>\n",
       "      <td>8.841186e+12</td>\n",
       "      <td>5642494</td>\n",
       "      <td>F</td>\n",
       "      <td>2016-04-29T16:07:23Z</td>\n",
       "      <td>2016-04-29T00:00:00Z</td>\n",
       "      <td>56</td>\n",
       "      <td>JARDIM DA PENHA</td>\n",
       "      <td>0</td>\n",
       "      <td>1</td>\n",
       "      <td>1</td>\n",
       "      <td>0</td>\n",
       "      <td>0</td>\n",
       "      <td>0</td>\n",
       "      <td>No</td>\n",
       "    </tr>\n",
       "  </tbody>\n",
       "</table>\n",
       "</div>"
      ],
      "text/plain": [
       "     Patient_id  Appointment_id Gender         Scheduled_day  \\\n",
       "0  2.987250e+13         5642903      F  2016-04-29T18:38:08Z   \n",
       "1  5.589978e+14         5642503      M  2016-04-29T16:08:27Z   \n",
       "2  4.262962e+12         5642549      F  2016-04-29T16:19:04Z   \n",
       "3  8.679512e+11         5642828      F  2016-04-29T17:29:31Z   \n",
       "4  8.841186e+12         5642494      F  2016-04-29T16:07:23Z   \n",
       "\n",
       "        Appointment_day  Age       Neighborhood  Scholarship  Hypertension  \\\n",
       "0  2016-04-29T00:00:00Z   62    JARDIM DA PENHA            0             1   \n",
       "1  2016-04-29T00:00:00Z   56    JARDIM DA PENHA            0             0   \n",
       "2  2016-04-29T00:00:00Z   62      MATA DA PRAIA            0             0   \n",
       "3  2016-04-29T00:00:00Z    8  PONTAL DE CAMBURI            0             0   \n",
       "4  2016-04-29T00:00:00Z   56    JARDIM DA PENHA            0             1   \n",
       "\n",
       "   Diabetes  Alcoholism  Handicap  SMS_received No_show  \n",
       "0         0           0         0             0      No  \n",
       "1         0           0         0             0      No  \n",
       "2         0           0         0             0      No  \n",
       "3         0           0         0             0      No  \n",
       "4         1           0         0             0      No  "
      ]
     },
     "execution_count": 12,
     "metadata": {},
     "output_type": "execute_result"
    }
   ],
   "source": [
    "\"\"\"\n",
    "Clean up the column names\n",
    "\"\"\"\n",
    "# Rename columns so that each column has same format\n",
    "df.rename(columns={'PatientId':'Patient_id', 'AppointmentID':'Appointment_id','ScheduledDay':'Scheduled_day',\n",
    "                   'AppointmentDay':'Appointment_day', 'Neighbourhood':'Neighborhood', 'Hipertension':'Hypertension',\n",
    "                   'Handcap':'Handicap','No-show':'No_show'},\n",
    "inplace=True)\n",
    "# confirm changes\n",
    "df.head()"
   ]
  },
  {
   "cell_type": "code",
   "execution_count": 13,
   "metadata": {},
   "outputs": [
    {
     "data": {
      "text/html": [
       "<div>\n",
       "<style>\n",
       "    .dataframe thead tr:only-child th {\n",
       "        text-align: right;\n",
       "    }\n",
       "\n",
       "    .dataframe thead th {\n",
       "        text-align: left;\n",
       "    }\n",
       "\n",
       "    .dataframe tbody tr th {\n",
       "        vertical-align: top;\n",
       "    }\n",
       "</style>\n",
       "<table border=\"1\" class=\"dataframe\">\n",
       "  <thead>\n",
       "    <tr style=\"text-align: right;\">\n",
       "      <th></th>\n",
       "      <th>F</th>\n",
       "      <th>M</th>\n",
       "    </tr>\n",
       "  </thead>\n",
       "  <tbody>\n",
       "    <tr>\n",
       "      <th>0</th>\n",
       "      <td>1</td>\n",
       "      <td>0</td>\n",
       "    </tr>\n",
       "    <tr>\n",
       "      <th>1</th>\n",
       "      <td>0</td>\n",
       "      <td>1</td>\n",
       "    </tr>\n",
       "    <tr>\n",
       "      <th>2</th>\n",
       "      <td>1</td>\n",
       "      <td>0</td>\n",
       "    </tr>\n",
       "    <tr>\n",
       "      <th>3</th>\n",
       "      <td>1</td>\n",
       "      <td>0</td>\n",
       "    </tr>\n",
       "    <tr>\n",
       "      <th>4</th>\n",
       "      <td>1</td>\n",
       "      <td>0</td>\n",
       "    </tr>\n",
       "  </tbody>\n",
       "</table>\n",
       "</div>"
      ],
      "text/plain": [
       "   F  M\n",
       "0  1  0\n",
       "1  0  1\n",
       "2  1  0\n",
       "3  1  0\n",
       "4  1  0"
      ]
     },
     "execution_count": 13,
     "metadata": {},
     "output_type": "execute_result"
    }
   ],
   "source": [
    "\"\"\"\n",
    "Next, we will be creating numeric values for the 'Gender' column. By doing this, we will be using pandas dummies\n",
    "function. Then we will drop the 'Gender' column and concatenate the new Gender dummy column to our existing dataframe.\n",
    "\"\"\"\n",
    "# create dummy values\n",
    "dummy = pd.get_dummies(df['Gender'])\n",
    "# confirm changes\n",
    "dummy.head()"
   ]
  },
  {
   "cell_type": "code",
   "execution_count": 14,
   "metadata": {
    "scrolled": true
   },
   "outputs": [
    {
     "data": {
      "text/html": [
       "<div>\n",
       "<style>\n",
       "    .dataframe thead tr:only-child th {\n",
       "        text-align: right;\n",
       "    }\n",
       "\n",
       "    .dataframe thead th {\n",
       "        text-align: left;\n",
       "    }\n",
       "\n",
       "    .dataframe tbody tr th {\n",
       "        vertical-align: top;\n",
       "    }\n",
       "</style>\n",
       "<table border=\"1\" class=\"dataframe\">\n",
       "  <thead>\n",
       "    <tr style=\"text-align: right;\">\n",
       "      <th></th>\n",
       "      <th>Patient_id</th>\n",
       "      <th>Appointment_id</th>\n",
       "      <th>Gender</th>\n",
       "      <th>Scheduled_day</th>\n",
       "      <th>Appointment_day</th>\n",
       "      <th>Age</th>\n",
       "      <th>Neighborhood</th>\n",
       "      <th>Scholarship</th>\n",
       "      <th>Hypertension</th>\n",
       "      <th>Diabetes</th>\n",
       "      <th>Alcoholism</th>\n",
       "      <th>Handicap</th>\n",
       "      <th>SMS_received</th>\n",
       "      <th>No_show</th>\n",
       "      <th>F</th>\n",
       "      <th>M</th>\n",
       "    </tr>\n",
       "  </thead>\n",
       "  <tbody>\n",
       "    <tr>\n",
       "      <th>0</th>\n",
       "      <td>2.987250e+13</td>\n",
       "      <td>5642903</td>\n",
       "      <td>F</td>\n",
       "      <td>2016-04-29T18:38:08Z</td>\n",
       "      <td>2016-04-29T00:00:00Z</td>\n",
       "      <td>62</td>\n",
       "      <td>JARDIM DA PENHA</td>\n",
       "      <td>0</td>\n",
       "      <td>1</td>\n",
       "      <td>0</td>\n",
       "      <td>0</td>\n",
       "      <td>0</td>\n",
       "      <td>0</td>\n",
       "      <td>No</td>\n",
       "      <td>1</td>\n",
       "      <td>0</td>\n",
       "    </tr>\n",
       "    <tr>\n",
       "      <th>1</th>\n",
       "      <td>5.589978e+14</td>\n",
       "      <td>5642503</td>\n",
       "      <td>M</td>\n",
       "      <td>2016-04-29T16:08:27Z</td>\n",
       "      <td>2016-04-29T00:00:00Z</td>\n",
       "      <td>56</td>\n",
       "      <td>JARDIM DA PENHA</td>\n",
       "      <td>0</td>\n",
       "      <td>0</td>\n",
       "      <td>0</td>\n",
       "      <td>0</td>\n",
       "      <td>0</td>\n",
       "      <td>0</td>\n",
       "      <td>No</td>\n",
       "      <td>0</td>\n",
       "      <td>1</td>\n",
       "    </tr>\n",
       "    <tr>\n",
       "      <th>2</th>\n",
       "      <td>4.262962e+12</td>\n",
       "      <td>5642549</td>\n",
       "      <td>F</td>\n",
       "      <td>2016-04-29T16:19:04Z</td>\n",
       "      <td>2016-04-29T00:00:00Z</td>\n",
       "      <td>62</td>\n",
       "      <td>MATA DA PRAIA</td>\n",
       "      <td>0</td>\n",
       "      <td>0</td>\n",
       "      <td>0</td>\n",
       "      <td>0</td>\n",
       "      <td>0</td>\n",
       "      <td>0</td>\n",
       "      <td>No</td>\n",
       "      <td>1</td>\n",
       "      <td>0</td>\n",
       "    </tr>\n",
       "    <tr>\n",
       "      <th>3</th>\n",
       "      <td>8.679512e+11</td>\n",
       "      <td>5642828</td>\n",
       "      <td>F</td>\n",
       "      <td>2016-04-29T17:29:31Z</td>\n",
       "      <td>2016-04-29T00:00:00Z</td>\n",
       "      <td>8</td>\n",
       "      <td>PONTAL DE CAMBURI</td>\n",
       "      <td>0</td>\n",
       "      <td>0</td>\n",
       "      <td>0</td>\n",
       "      <td>0</td>\n",
       "      <td>0</td>\n",
       "      <td>0</td>\n",
       "      <td>No</td>\n",
       "      <td>1</td>\n",
       "      <td>0</td>\n",
       "    </tr>\n",
       "    <tr>\n",
       "      <th>4</th>\n",
       "      <td>8.841186e+12</td>\n",
       "      <td>5642494</td>\n",
       "      <td>F</td>\n",
       "      <td>2016-04-29T16:07:23Z</td>\n",
       "      <td>2016-04-29T00:00:00Z</td>\n",
       "      <td>56</td>\n",
       "      <td>JARDIM DA PENHA</td>\n",
       "      <td>0</td>\n",
       "      <td>1</td>\n",
       "      <td>1</td>\n",
       "      <td>0</td>\n",
       "      <td>0</td>\n",
       "      <td>0</td>\n",
       "      <td>No</td>\n",
       "      <td>1</td>\n",
       "      <td>0</td>\n",
       "    </tr>\n",
       "  </tbody>\n",
       "</table>\n",
       "</div>"
      ],
      "text/plain": [
       "     Patient_id  Appointment_id Gender         Scheduled_day  \\\n",
       "0  2.987250e+13         5642903      F  2016-04-29T18:38:08Z   \n",
       "1  5.589978e+14         5642503      M  2016-04-29T16:08:27Z   \n",
       "2  4.262962e+12         5642549      F  2016-04-29T16:19:04Z   \n",
       "3  8.679512e+11         5642828      F  2016-04-29T17:29:31Z   \n",
       "4  8.841186e+12         5642494      F  2016-04-29T16:07:23Z   \n",
       "\n",
       "        Appointment_day  Age       Neighborhood  Scholarship  Hypertension  \\\n",
       "0  2016-04-29T00:00:00Z   62    JARDIM DA PENHA            0             1   \n",
       "1  2016-04-29T00:00:00Z   56    JARDIM DA PENHA            0             0   \n",
       "2  2016-04-29T00:00:00Z   62      MATA DA PRAIA            0             0   \n",
       "3  2016-04-29T00:00:00Z    8  PONTAL DE CAMBURI            0             0   \n",
       "4  2016-04-29T00:00:00Z   56    JARDIM DA PENHA            0             1   \n",
       "\n",
       "   Diabetes  Alcoholism  Handicap  SMS_received No_show  F  M  \n",
       "0         0           0         0             0      No  1  0  \n",
       "1         0           0         0             0      No  0  1  \n",
       "2         0           0         0             0      No  1  0  \n",
       "3         0           0         0             0      No  1  0  \n",
       "4         1           0         0             0      No  1  0  "
      ]
     },
     "execution_count": 14,
     "metadata": {},
     "output_type": "execute_result"
    }
   ],
   "source": [
    "# merge dummy values to original dataframe\n",
    "df = pd.concat([df, dummy], axis = 1)\n",
    "# confirm changes\n",
    "df.head()"
   ]
  },
  {
   "cell_type": "code",
   "execution_count": 15,
   "metadata": {},
   "outputs": [
    {
     "data": {
      "text/html": [
       "<div>\n",
       "<style>\n",
       "    .dataframe thead tr:only-child th {\n",
       "        text-align: right;\n",
       "    }\n",
       "\n",
       "    .dataframe thead th {\n",
       "        text-align: left;\n",
       "    }\n",
       "\n",
       "    .dataframe tbody tr th {\n",
       "        vertical-align: top;\n",
       "    }\n",
       "</style>\n",
       "<table border=\"1\" class=\"dataframe\">\n",
       "  <thead>\n",
       "    <tr style=\"text-align: right;\">\n",
       "      <th></th>\n",
       "      <th>Patient_id</th>\n",
       "      <th>Appointment_id</th>\n",
       "      <th>Scheduled_day</th>\n",
       "      <th>Appointment_day</th>\n",
       "      <th>Age</th>\n",
       "      <th>Neighborhood</th>\n",
       "      <th>Scholarship</th>\n",
       "      <th>Hypertension</th>\n",
       "      <th>Diabetes</th>\n",
       "      <th>Alcoholism</th>\n",
       "      <th>Handicap</th>\n",
       "      <th>SMS_received</th>\n",
       "      <th>No_show</th>\n",
       "      <th>F</th>\n",
       "      <th>M</th>\n",
       "    </tr>\n",
       "  </thead>\n",
       "  <tbody>\n",
       "    <tr>\n",
       "      <th>0</th>\n",
       "      <td>2.987250e+13</td>\n",
       "      <td>5642903</td>\n",
       "      <td>2016-04-29T18:38:08Z</td>\n",
       "      <td>2016-04-29T00:00:00Z</td>\n",
       "      <td>62</td>\n",
       "      <td>JARDIM DA PENHA</td>\n",
       "      <td>0</td>\n",
       "      <td>1</td>\n",
       "      <td>0</td>\n",
       "      <td>0</td>\n",
       "      <td>0</td>\n",
       "      <td>0</td>\n",
       "      <td>No</td>\n",
       "      <td>1</td>\n",
       "      <td>0</td>\n",
       "    </tr>\n",
       "    <tr>\n",
       "      <th>1</th>\n",
       "      <td>5.589978e+14</td>\n",
       "      <td>5642503</td>\n",
       "      <td>2016-04-29T16:08:27Z</td>\n",
       "      <td>2016-04-29T00:00:00Z</td>\n",
       "      <td>56</td>\n",
       "      <td>JARDIM DA PENHA</td>\n",
       "      <td>0</td>\n",
       "      <td>0</td>\n",
       "      <td>0</td>\n",
       "      <td>0</td>\n",
       "      <td>0</td>\n",
       "      <td>0</td>\n",
       "      <td>No</td>\n",
       "      <td>0</td>\n",
       "      <td>1</td>\n",
       "    </tr>\n",
       "    <tr>\n",
       "      <th>2</th>\n",
       "      <td>4.262962e+12</td>\n",
       "      <td>5642549</td>\n",
       "      <td>2016-04-29T16:19:04Z</td>\n",
       "      <td>2016-04-29T00:00:00Z</td>\n",
       "      <td>62</td>\n",
       "      <td>MATA DA PRAIA</td>\n",
       "      <td>0</td>\n",
       "      <td>0</td>\n",
       "      <td>0</td>\n",
       "      <td>0</td>\n",
       "      <td>0</td>\n",
       "      <td>0</td>\n",
       "      <td>No</td>\n",
       "      <td>1</td>\n",
       "      <td>0</td>\n",
       "    </tr>\n",
       "    <tr>\n",
       "      <th>3</th>\n",
       "      <td>8.679512e+11</td>\n",
       "      <td>5642828</td>\n",
       "      <td>2016-04-29T17:29:31Z</td>\n",
       "      <td>2016-04-29T00:00:00Z</td>\n",
       "      <td>8</td>\n",
       "      <td>PONTAL DE CAMBURI</td>\n",
       "      <td>0</td>\n",
       "      <td>0</td>\n",
       "      <td>0</td>\n",
       "      <td>0</td>\n",
       "      <td>0</td>\n",
       "      <td>0</td>\n",
       "      <td>No</td>\n",
       "      <td>1</td>\n",
       "      <td>0</td>\n",
       "    </tr>\n",
       "    <tr>\n",
       "      <th>4</th>\n",
       "      <td>8.841186e+12</td>\n",
       "      <td>5642494</td>\n",
       "      <td>2016-04-29T16:07:23Z</td>\n",
       "      <td>2016-04-29T00:00:00Z</td>\n",
       "      <td>56</td>\n",
       "      <td>JARDIM DA PENHA</td>\n",
       "      <td>0</td>\n",
       "      <td>1</td>\n",
       "      <td>1</td>\n",
       "      <td>0</td>\n",
       "      <td>0</td>\n",
       "      <td>0</td>\n",
       "      <td>No</td>\n",
       "      <td>1</td>\n",
       "      <td>0</td>\n",
       "    </tr>\n",
       "  </tbody>\n",
       "</table>\n",
       "</div>"
      ],
      "text/plain": [
       "     Patient_id  Appointment_id         Scheduled_day       Appointment_day  \\\n",
       "0  2.987250e+13         5642903  2016-04-29T18:38:08Z  2016-04-29T00:00:00Z   \n",
       "1  5.589978e+14         5642503  2016-04-29T16:08:27Z  2016-04-29T00:00:00Z   \n",
       "2  4.262962e+12         5642549  2016-04-29T16:19:04Z  2016-04-29T00:00:00Z   \n",
       "3  8.679512e+11         5642828  2016-04-29T17:29:31Z  2016-04-29T00:00:00Z   \n",
       "4  8.841186e+12         5642494  2016-04-29T16:07:23Z  2016-04-29T00:00:00Z   \n",
       "\n",
       "   Age       Neighborhood  Scholarship  Hypertension  Diabetes  Alcoholism  \\\n",
       "0   62    JARDIM DA PENHA            0             1         0           0   \n",
       "1   56    JARDIM DA PENHA            0             0         0           0   \n",
       "2   62      MATA DA PRAIA            0             0         0           0   \n",
       "3    8  PONTAL DE CAMBURI            0             0         0           0   \n",
       "4   56    JARDIM DA PENHA            0             1         1           0   \n",
       "\n",
       "   Handicap  SMS_received No_show  F  M  \n",
       "0         0             0      No  1  0  \n",
       "1         0             0      No  0  1  \n",
       "2         0             0      No  1  0  \n",
       "3         0             0      No  1  0  \n",
       "4         0             0      No  1  0  "
      ]
     },
     "execution_count": 15,
     "metadata": {},
     "output_type": "execute_result"
    }
   ],
   "source": [
    "# drop 'Gender' column since we no longer need this\n",
    "df.drop(['Gender'], axis=1, inplace=True)\n",
    "# confirm changes\n",
    "df.head()"
   ]
  },
  {
   "cell_type": "code",
   "execution_count": 16,
   "metadata": {},
   "outputs": [
    {
     "name": "stdout",
     "output_type": "stream",
     "text": [
      "child          18749\n",
      "teen           13099\n",
      "young_adult    13783\n",
      "40s            15052\n",
      "50s            14420\n",
      "retirement     15661\n",
      "70s            11189\n",
      "80s             5721\n",
      "90s             2544\n",
      "100s             301\n",
      "110s               7\n",
      "Name: Age_Bin, dtype: int64\n"
     ]
    }
   ],
   "source": [
    "\"\"\"\n",
    "This function inputs the new dataframe, cut_points, and labels to create bins for the 'Age' column. We will be needing \n",
    "this for a later exploratory graph.\n",
    "\"\"\"\n",
    "#create binning function\n",
    "def binning(col, cut_points, labels=None):\n",
    "    #Define min and max values\n",
    "    minimum = col.min()\n",
    "    maximum = col.max()\n",
    "    \n",
    "    #create list by adding min and max to cut_points\n",
    "    break_points = [minimum] + cut_points + [maximum]\n",
    "    \n",
    "    #Binning using cut function of pandas\n",
    "    colBin = pd.cut(col,bins=break_points,labels=labels,include_lowest=True)\n",
    "    return colBin\n",
    "\n",
    "#Binning age:\n",
    "cut_points = [10, 20, 30, 40, 50, 60, 70, 80, 90, 100]\n",
    "labels = [\"child\",\"teen\",\"young_adult\",\"40s\", \"50s\", \"retirement\", \"70s\", \"80s\", \"90s\", \"100s\", \"110s\"]\n",
    "df[\"Age_Bin\"] = binning(df[\"Age\"], cut_points, labels)\n",
    "print(pd.value_counts(df[\"Age_Bin\"], sort=False))"
   ]
  },
  {
   "cell_type": "markdown",
   "metadata": {},
   "source": [
    "# <a id='eda'></a>\n",
    "## Exploratory Data Analysis\n",
    "\n",
    "Now that we've trimmed and cleaned the data, we're ready to move on to exploration. We will compute statistics and create visualizations with the goal of addressing the research questions that we posed in the Introduction section. We must be systematic with our approach and look at one variable at a time, and then follow it up by looking at relationships between variables. To do this, we are going to compare the No-show variable to each of the three variables we are focusing on - scholarship, alcoholism, and SMS received. Then we are going to analyze the relationships between those three variables.\n",
    "\n",
    "### Question 1: Does a scholarship influence the patient to show up for appointments?"
   ]
  },
  {
   "cell_type": "code",
   "execution_count": 17,
   "metadata": {
    "scrolled": true
   },
   "outputs": [
    {
     "data": {
      "text/plain": [
       "No     88207\n",
       "Yes    22319\n",
       "Name: No_show, dtype: int64"
      ]
     },
     "execution_count": 17,
     "metadata": {},
     "output_type": "execute_result"
    }
   ],
   "source": [
    "\"\"\"\n",
    "This function will determine how many showed up for appointments and how many didn't. This function will be\n",
    "compared to all three of the questions we will be asking.\n",
    "\"\"\"\n",
    "df.No_show.value_counts()"
   ]
  },
  {
   "cell_type": "code",
   "execution_count": 18,
   "metadata": {
    "scrolled": true
   },
   "outputs": [
    {
     "data": {
      "text/plain": [
       "0    99665\n",
       "1    10861\n",
       "Name: Scholarship, dtype: int64"
      ]
     },
     "execution_count": 18,
     "metadata": {},
     "output_type": "execute_result"
    }
   ],
   "source": [
    "\"\"\"\n",
    "This function is the same as the last function and we will compare results to the No_show value counts as well as\n",
    "the outputs of our other two questions.\"\"\"\n",
    "df.Scholarship.value_counts()"
   ]
  },
  {
   "cell_type": "code",
   "execution_count": 19,
   "metadata": {},
   "outputs": [
    {
     "data": {
      "text/plain": [
       "No_show  Scholarship\n",
       "No       0              79924\n",
       "         1               8283\n",
       "Yes      0              19741\n",
       "         1               2578\n",
       "dtype: int64"
      ]
     },
     "execution_count": 19,
     "metadata": {},
     "output_type": "execute_result"
    }
   ],
   "source": [
    "\"\"\"\n",
    "This function will show how many of the no-shows had scholarships and how many that showed up did have scholarships.\n",
    "This will provide us with a better estimate of whether scholarships influence patients to show up to appointments.\n",
    "\"\"\"\n",
    "df.groupby([\"No_show\", \"Scholarship\"]).size()"
   ]
  },
  {
   "cell_type": "markdown",
   "metadata": {},
   "source": [
    "**Answer**: From the outputs of the functions, there were approximately 9/11 people who did show up and 2/11 people that did show up for appointments. In the scholarship count, approximately 10/11 people did not have scholarships and 1/11 people did. Thus, of the 2 people that did not show up to appointments, 1/2 had scholarships. This did not provide us with a good estimate if possessing a scholarship will influence patients to show up for appointments. By using the \"groupby\" function, it showed us that of the 10861 patients that did possess a scholarship, 8283 patients did not show up for an appointment while 2578 of them did show up for an appointment. Possessing a scholarship does not influence patients to show up for appointments."
   ]
  },
  {
   "cell_type": "markdown",
   "metadata": {},
   "source": [
    "### Question 2: Are there more no-shows with alcoholism or vice versa?"
   ]
  },
  {
   "cell_type": "code",
   "execution_count": 20,
   "metadata": {},
   "outputs": [
    {
     "data": {
      "text/plain": [
       "No_show  Alcoholism\n",
       "No       0             85524\n",
       "         1              2683\n",
       "Yes      0             21642\n",
       "         1               677\n",
       "dtype: int64"
      ]
     },
     "execution_count": 20,
     "metadata": {},
     "output_type": "execute_result"
    }
   ],
   "source": [
    "\"\"\"\n",
    "This function is used to compare how many patients that showed up for appointments or not had alcoholism. This\n",
    "function is similar to the last question's function except variables are switched.\n",
    "\"\"\"\n",
    "df.groupby([\"No_show\", \"Alcoholism\"]).size()"
   ]
  },
  {
   "cell_type": "markdown",
   "metadata": {},
   "source": [
    "**Answer:** Almost all patients did not have alcoholism - 0.3/11 had alcoholism while 10.7/11 did not have alcoholism. Of the 3360 patients that did have alcoholism, 2683 of them did not show for an appointment while 677 did show up for an appointment. Alcoholism does affect patients in showing up for appointments. There is a greater number of no-shows when alcoholism is present."
   ]
  },
  {
   "cell_type": "markdown",
   "metadata": {},
   "source": [
    "### Question 3: Does the option to receive SMS text messages influence the patient to show up for appointments? "
   ]
  },
  {
   "cell_type": "code",
   "execution_count": 21,
   "metadata": {},
   "outputs": [
    {
     "data": {
      "text/plain": [
       "No_show  SMS_received\n",
       "No       0               62509\n",
       "         1               25698\n",
       "Yes      0               12535\n",
       "         1                9784\n",
       "dtype: int64"
      ]
     },
     "execution_count": 21,
     "metadata": {},
     "output_type": "execute_result"
    }
   ],
   "source": [
    "\"\"\"\n",
    "This function is used to compare how many patients that showed up for appointments or not had text message notifications.\n",
    "This function is similar to the last question's function except variables are switched.\n",
    "\"\"\"\n",
    "df.groupby([\"No_show\", \"SMS_received\"]).size()"
   ]
  },
  {
   "cell_type": "markdown",
   "metadata": {},
   "source": [
    "**Answer:** There were approximately 3.5/11 patients that received text messages about appointments while 7.5 patients did not. Of the 35482 patients that did receive text messages, 25698 patients did not show up for their appointments and 9784 patients did show up for their appointments. Receiving text messages did not influence patients to show up for their appointments."
   ]
  },
  {
   "cell_type": "markdown",
   "metadata": {},
   "source": [
    "### Question 4: What are the relationships between the three variables investigated above?"
   ]
  },
  {
   "cell_type": "markdown",
   "metadata": {},
   "source": [
    "To compare all three variables, we will be using groupby function and bar charts to compare two variables at a time. There will be 3 groupby functions and bar graphs presented for each relationship explored- scholarship and SMS_received, alcoholism and SMS_received, and alcoholism and scholarships."
   ]
  },
  {
   "cell_type": "markdown",
   "metadata": {},
   "source": [
    "**Scholarship and SMS_Received**"
   ]
  },
  {
   "cell_type": "code",
   "execution_count": 22,
   "metadata": {
    "scrolled": true
   },
   "outputs": [
    {
     "data": {
      "text/plain": [
       "Scholarship  SMS_received\n",
       "0            0               67688\n",
       "             1               31977\n",
       "1            0                7356\n",
       "             1                3505\n",
       "dtype: int64"
      ]
     },
     "execution_count": 22,
     "metadata": {},
     "output_type": "execute_result"
    }
   ],
   "source": [
    "# Use groupby to get an estimate of what the graph should look like\n",
    "df.groupby([\"Scholarship\", \"SMS_received\"]).size()"
   ]
  },
  {
   "cell_type": "code",
   "execution_count": 32,
   "metadata": {
    "scrolled": false
   },
   "outputs": [
    {
     "data": {
      "image/png": "[encoded data removed]",
      "text/plain": [
       "<matplotlib.figure.Figure at 0x10dead390>"
      ]
     },
     "metadata": {},
     "output_type": "display_data"
    }
   ],
   "source": [
    "# Plot a bar graph based on groupby data\n",
    "groups = df.groupby(['Scholarship','SMS_received']).size().unstack(fill_value=0)\n",
    "groups.plot.bar()\n",
    "\n",
    "# Set titles and axes\n",
    "plt.title('Scholarship and SMS_received', fontsize = 24)\n",
    "plt.xlabel('Scholarship', fontsize=18)\n",
    "plt.ylabel('Number of Patients', fontsize=18)\n",
    "\n",
    "# use the magic word to show the bar graph\n",
    "plt.show()"
   ]
  },
  {
   "cell_type": "markdown",
   "metadata": {},
   "source": [
    "There is a direct relationship between scholarships and SMS_received. As scholarships increased, text messages received increased. This relationship can be found by dividing the amount of patients who receive text messages and scholarships by those that did not receive text messages and did receive scholarships - 3505/7356 = 0.476 - and by comparing it to dividing those that did receive text messages and did not receive scholarships by those that did not receive text messages or scholarships - 31977/67689= 0.472. To recap, as scholarships increased from 0 to 1, the proportion that received text messages to those that didnt increased from 0.472 to 0.476."
   ]
  },
  {
   "cell_type": "markdown",
   "metadata": {},
   "source": [
    "**Alcoholism and SMS_Received**"
   ]
  },
  {
   "cell_type": "code",
   "execution_count": 26,
   "metadata": {
    "scrolled": true
   },
   "outputs": [
    {
     "data": {
      "text/plain": [
       "Alcoholism  SMS_received\n",
       "0           0               72531\n",
       "            1               34635\n",
       "1           0                2513\n",
       "            1                 847\n",
       "dtype: int64"
      ]
     },
     "execution_count": 26,
     "metadata": {},
     "output_type": "execute_result"
    }
   ],
   "source": [
    "# Use groupby to get an estimate of what the graph should look like\n",
    "df.groupby([\"Alcoholism\", \"SMS_received\"]).size()"
   ]
  },
  {
   "cell_type": "code",
   "execution_count": 33,
   "metadata": {
    "scrolled": true
   },
   "outputs": [
    {
     "data": {
      "image/png": "[encoded data removed]",
      "text/plain": [
       "<matplotlib.figure.Figure at 0x10e02f550>"
      ]
     },
     "metadata": {},
     "output_type": "display_data"
    }
   ],
   "source": [
    "# Plot a bar graph based on groupby data\n",
    "groups = df.groupby(['Alcoholism','SMS_received']).size().unstack(fill_value=0)\n",
    "groups.plot.bar()\n",
    "\n",
    "# Set titles and axes\n",
    "plt.title('Alcoholism and SMS_received', fontsize = 24)\n",
    "plt.xlabel('Alcoholism', fontsize=18)\n",
    "plt.ylabel('Number of Patients', fontsize=18)\n",
    "\n",
    "# use the magic word to show the bar graph\n",
    "plt.show()"
   ]
  },
  {
   "cell_type": "markdown",
   "metadata": {},
   "source": [
    "There is a direct relationship between alcoholism and SMS_received. As alcoholism increased, text messages received increased. This relationship can be found by dividing the amount of patients who receive text messages and has alcoholism by those that did not receive text messages and has alcoholism - 847/2513 = 0.337 - and by comparing it to dividing those that did receive text messages and do not have alcoholism by those that did not receive text messages or have alcoholism - 34635/72532 = 0.478. To recap, as alcholism increased from 0 to 1, the proportion that received text messages to those that didnt increased from 0.337 to 0.478"
   ]
  },
  {
   "cell_type": "markdown",
   "metadata": {},
   "source": [
    "**Alcoholism and Scholarship**"
   ]
  },
  {
   "cell_type": "code",
   "execution_count": 34,
   "metadata": {
    "scrolled": true
   },
   "outputs": [
    {
     "data": {
      "text/plain": [
       "Scholarship  Alcoholism\n",
       "0            0             96833\n",
       "             1              2832\n",
       "1            0             10333\n",
       "             1               528\n",
       "dtype: int64"
      ]
     },
     "execution_count": 34,
     "metadata": {},
     "output_type": "execute_result"
    }
   ],
   "source": [
    "# Use groupby to get an estimate of what the graph should look like\n",
    "df.groupby([\"Scholarship\", \"Alcoholism\"]).size()"
   ]
  },
  {
   "cell_type": "code",
   "execution_count": 35,
   "metadata": {},
   "outputs": [
    {
     "data": {
      "image/png": "[encoded data removed]",
      "text/plain": [
       "<matplotlib.figure.Figure at 0x10f0d9a20>"
      ]
     },
     "metadata": {},
     "output_type": "display_data"
    }
   ],
   "source": [
    "# Plot a bar graph based on groupby data\n",
    "groups = df.groupby(['Scholarship','Alcoholism']).size().unstack(fill_value=0)\n",
    "groups.plot.bar()\n",
    "\n",
    "# Set titles and axes\n",
    "plt.title('Alcoholism and Scholarships', fontsize = 24)\n",
    "plt.xlabel('Scholarship', fontsize=18)\n",
    "plt.ylabel('Number of Patients', fontsize=18)\n",
    "\n",
    "# use the magic word to show the bar graph\n",
    "plt.show()"
   ]
  },
  {
   "cell_type": "markdown",
   "metadata": {},
   "source": [
    "There is an indirect relationship between alcoholism and scholarships. As alcoholism increased, scholarships decreased. This relationship can be found by dividing the amount of patients who has alcoholism and scholarhips by those that did not have alcoholism and but has scholarships - 528/1033 = 0.051 - and by comparing it to dividing those that do have alcoholism and do not have scholarships by those that do not have alcoholism or scholarships - 2832/96834= 0.029. To recap, as alcholism increased from 0 to 1, the proportion that received scholarships to those that didnt decreased from 0.051 to 0.029."
   ]
  },
  {
   "cell_type": "markdown",
   "metadata": {},
   "source": [
    "### Question 5: How many patients were in each age group? "
   ]
  },
  {
   "cell_type": "code",
   "execution_count": 36,
   "metadata": {},
   "outputs": [
    {
     "data": {
      "text/plain": [
       "No_show  Age_Bin    \n",
       "No       child          14961\n",
       "         teen            9791\n",
       "         young_adult    10389\n",
       "         40s            11820\n",
       "         50s            11550\n",
       "         retirement     12940\n",
       "         70s             9541\n",
       "         80s             4832\n",
       "         90s             2137\n",
       "         100s             242\n",
       "         110s               4\n",
       "Yes      child           3788\n",
       "         teen            3308\n",
       "         young_adult     3394\n",
       "         40s             3232\n",
       "         50s             2870\n",
       "         retirement      2721\n",
       "         70s             1648\n",
       "         80s              889\n",
       "         90s              407\n",
       "         100s              59\n",
       "         110s               3\n",
       "dtype: int64"
      ]
     },
     "execution_count": 36,
     "metadata": {},
     "output_type": "execute_result"
    }
   ],
   "source": [
    "\"\"\"\n",
    "We are going to use the groupby function to see how many patients in each age group showed up or not to their\n",
    "appointments. We must use 'Age_Bin' rather than 'Age' as a group because using 'Age' will give us too many values.\n",
    "\"\"\"\n",
    "# rerun the 'Age_Bin' column variable to make sure that the groupby function is able to run\n",
    "df[\"Age_Bin\"] = binning(df[\"Age\"], cut_points, labels)\n",
    "# run the groupby function\n",
    "df.groupby(['No_show', 'Age_Bin']).size()"
   ]
  },
  {
   "cell_type": "markdown",
   "metadata": {},
   "source": [
    "**Note:** By looking at the values that the groupby function gave us, we can deduce that there is approximately an equal number of patients that show up for their appointments from their childhood years to retirement. This means that the varied number of patients in each no-show age group, from childhood to retirement, will show us how many patients that did not show up for an appointment. We can go ahead and plot only the Age variable to determine the number of patients that did not show up for appointments. "
   ]
  },
  {
   "cell_type": "code",
   "execution_count": 37,
   "metadata": {},
   "outputs": [
    {
     "data": {
      "image/png": "[encoded data removed]",
      "text/plain": [
       "<matplotlib.figure.Figure at 0x10f0eb048>"
      ]
     },
     "metadata": {},
     "output_type": "display_data"
    }
   ],
   "source": [
    "\"\"\"\n",
    "By counting the number of patients that Brazil scheduled for an appointment, we can get an idea of how many illnesses\n",
    "there are and the amount that did not show up for appointments within each age group.\n",
    "\"\"\"\n",
    "# Plot the histogram and set the xtick properties\n",
    "ax = df['Age'].plot(kind='hist')\n",
    "ax.set_xticks(cut_points)\n",
    "ax.set_xticklabels(labels, rotation= 60, )\n",
    "\n",
    "# Set histogram labels and titles\n",
    "plt.xlabel('Age Group', fontsize= 16)\n",
    "plt.ylabel('Number of Patients', fontsize=16)\n",
    "plt.title('Number of \"No-Show\" Patients by Age Group', fontsize=22)\n",
    "plt.xlim([0, 120])\n",
    "\n",
    "# use the magic word to show the bar graph\n",
    "plt.show()"
   ]
  },
  {
   "cell_type": "markdown",
   "metadata": {},
   "source": [
    "**Answer:** By looking at the histogram graph, a great number of patients in their childhood, 50s, and retirement age group did not show up to appointments."
   ]
  },
  {
   "cell_type": "markdown",
   "metadata": {},
   "source": [
    "### Question 6: Does a certain gender influence whether one shows up to appointments or not?"
   ]
  },
  {
   "cell_type": "code",
   "execution_count": 38,
   "metadata": {},
   "outputs": [
    {
     "data": {
      "text/plain": [
       "No_show  F\n",
       "No       0    30962\n",
       "         1    57245\n",
       "Yes      0     7725\n",
       "         1    14594\n",
       "dtype: int64"
      ]
     },
     "execution_count": 38,
     "metadata": {},
     "output_type": "execute_result"
    }
   ],
   "source": [
    "\"\"\"\n",
    "To answer this question, we are going to create a pie chart to determine which category influences patients to \n",
    "show up the most.\n",
    "\"\"\"\n",
    "# Obtain size of piechart categories used for 'cut_points' variable later on. Only one column, F or M, is used. \n",
    "# We are going to use F column so that 1 represents female and 0 represents male.\n",
    "df.groupby(['No_show','F']).size()"
   ]
  },
  {
   "cell_type": "code",
   "execution_count": 39,
   "metadata": {},
   "outputs": [
    {
     "data": {
      "image/png": "[encoded data removed]",
      "text/plain": [
       "<matplotlib.figure.Figure at 0x111c6a978>"
      ]
     },
     "metadata": {},
     "output_type": "display_data"
    }
   ],
   "source": [
    "# Set pie chart properties\n",
    "labels = 'Female, No show', 'Female, Showed', 'Male, No Show', 'Male, Show'\n",
    "cut_points = [57245, 14594, 30962, 7725 ]\n",
    "colors = ['red', 'lightcoral', 'blue', 'lightskyblue']\n",
    "\n",
    "#Set piechart title and axis\n",
    "fig1, ax = plt.subplots()\n",
    "ax.pie(cut_points, labels=labels, colors=colors, autopct='%1.1f%%',shadow=True)\n",
    "plt.title('Proportion of Female and Male Patients', fontsize= 18)\n",
    "\n",
    "# Equal aspect ratio ensures that pie is drawn as a circle.\n",
    "ax.axis('equal')\n",
    "\n",
    "#plot piechart\n",
    "plt.show()"
   ]
  },
  {
   "cell_type": "markdown",
   "metadata": {},
   "source": [
    "**Answer:** By looking at the pie chart, approximately 1/5 of female patients- 13.2%/51.8% - showed up for appointments while approximately 1/4 of male patients- 7.0%/28.0%- showed up for appointments. Being a male influences one to show up to appointments more."
   ]
  },
  {
   "cell_type": "markdown",
   "metadata": {},
   "source": [
    "<a id='conclusions'></a>\n",
    "## Conclusions"
   ]
  },
  {
   "cell_type": "markdown",
   "metadata": {},
   "source": [
    "**Conclusion:** What factors are important for us to know in order to predict if a patient will show up for their scheduled appointment? To answer this question, we looked at three variable - alcoholism, scholarships, and SMS_received. We determined that SMS_received and scholarships did not influence patients in showing up for their appointment. Alcholism did influence whether patients showed up for their appointment. We can infer that the factors that are related to a patient's health, and not their wealth or knowledge, affect whether they show up to appointments or not. It is also researched that alcoholism interferes with a person's activities of daily living (ADL) by requiring larger and larger amounts of alchol to get the same effect. This may influence a person to skip meetings or days of work, catch ups with friends, etc. It is no surprise that alcoholism will make it difficult for a patient to show up for their appointments. \n",
    "\n",
    "Secondly, we looked at the relationships between variables. We determined that there is an indirect relationship between alcoholism and scholarships received, a direct relationship between text messages received and alcoholism, and a direct relationship between text messages received and scholarships received. Although correlation does not mean causation, we are merely looking at the relationship between variables of whether it is direct or indirect. There is a strong indirect relationship between alcoholism and receiving scholarships. It is proven by research that alcohol hinders a person's rational thought and decision-making, the two functions of the prefrontal cortex [1]. A long-term case of alcoholism will affect grades in school and thus, whether one obtains a scholarship. \n",
    "\n",
    "Lastly, we compared age group and gender with no-show separately. The female population had approximately 1/5 that showed up for their appointments while males had approximately 1/4 that showed up to appointments. Furthermore, there were a greater pool of female patients than male patients, making the female population at a disadvantage to showing up for their appointments. Also, the age groups child (0-10), 50s and retirement(50-60) did not show up to their appointments the most. These two results from the gender pie chart and age group histogram do not follow the trend of other countries and their patient age group accessing healthcare [2].\n",
    "\n",
    "A limitation of the data set is seeing the value in the columns given. A limitation of the data set is that I did not see much value in the appointment_id, patient_id, or scheduled_day columns. Almost every row for that column was either the same or had a unique value for each row. Another limitation of the data set is that the SMS_received column does not indicate the wealth status of the patient. Some patients may not have enough money to pay for extra text message rates and some may find text messages from their doctors as annoying. Another variable that may prove to be more useful in determining whether a patient shows up to their appointments could be income level. \n",
    "\n",
    "In conclusion, alcoholism, gender, and age group did affect patients in showing up for appointments. Alcoholism hindered patients in showing up for appointments. Females tended to not show up for appointments more than males. Children and adults in their 50s and 60s did not show up to their appointments the most. Limitations of the data set is that not all variables were useful and thus, not all variables were used. What could have helped in determining columns more useful is more information on Brazil, such as Brazil's neighborhood by income levels. \n",
    "\n",
    "[1]: https://www.psychologytoday.com/blog/you-illuminated/201006/your-brain-alcohol\n",
    "[2]: http://ictph.org.in/analysing-patient-data-at-sughavazhvu-chief-complaints-and-diagnoses-of-patients-belonging-to-different-age-groups/"
   ]
  },
  {
   "cell_type": "code",
   "execution_count": 40,
   "metadata": {},
   "outputs": [
    {
     "data": {
      "text/plain": [
       "0"
      ]
     },
     "execution_count": 40,
     "metadata": {},
     "output_type": "execute_result"
    }
   ],
   "source": [
    "from subprocess import call\n",
    "call(['python', '-m', 'nbconvert', 'Investigate_a_Dataset.ipynb'])"
   ]
  },
  {
   "cell_type": "code",
   "execution_count": null,
   "metadata": {
    "collapsed": true
   },
   "outputs": [],
   "source": []
  }
 ],
 "metadata": {
  "kernelspec": {
   "display_name": "Python 3",
   "language": "python",
   "name": "python3"
  },
  "language_info": {
   "codemirror_mode": {
    "name": "ipython",
    "version": 3
   },
   "file_extension": ".py",
   "mimetype": "text/x-python",
   "name": "python",
   "nbconvert_exporter": "python",
   "pygments_lexer": "ipython3",
   "version": "3.6.3"
  }
 },
 "nbformat": 4,
 "nbformat_minor": 2
}
