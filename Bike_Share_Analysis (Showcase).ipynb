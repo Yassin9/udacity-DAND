{
 "cells": [
  {
   "cell_type": "markdown",
   "metadata": {},
   "source": [
    "# 2016 US Bike Share Activity Snapshot\n",
    "\n",
    "## Table of Contents\n",
    "- [Introduction](#intro)\n",
    "- [Posing Questions](#pose_questions)\n",
    "- [Data Collection and Wrangling](#wrangling)\n",
    "  - [Condensing the Trip Data](#condensing)\n",
    "- [Exploratory Data Analysis](#eda)\n",
    "  - [Statistics](#statistics)\n",
    "  - [Visualizations](#visualizations)\n",
    "- [Performing Your Own Analysis](#eda_continued)\n",
    "- [Conclusions](#conclusions)\n",
    "\n",
    "<a id='intro'></a>\n",
    "## Introduction\n",
    "\n",
    "Over the past decade, bicycle-sharing systems have been growing in number and popularity in cities across the world. Bicycle-sharing systems allow users to rent bicycles for short trips, typically 30 minutes or less. Thanks to the rise in information technologies, it is easy for a user of the system to access a dock within the system to unlock or return bicycles. These technologies also provide a wealth of data that can be used to explore how these bike-sharing systems are used.\n",
    "\n",
    "In this project, I will perform an exploratory analysis on data provided by [Motivate](https://www.motivateco.com/), a bike-share system provider for many major cities in the United States. You will compare the system usage between three large cities: New York City, Chicago, and Washington, DC. You will also see if there are any differences within each system for those users that are registered, regular users and those users that are short-term, casual users."
   ]
  },
  {
   "cell_type": "markdown",
   "metadata": {},
   "source": [
    "<a id='pose_questions'></a>\n",
    "## Posing Questions\n",
    "\n",
    "**Question 1**: What are the most common docks that are used over time and are they near any prominent landmarks?\n",
    "    How old is each user in the bike-share system?\n"
   ]
  },
  {
   "cell_type": "markdown",
   "metadata": {},
   "source": [
    "<a id='wrangling'></a>\n",
    "## Data Collection and Wrangling\n",
    "\n",
    "In this project, we will focus on the record of individual trips taken in 2016 from our selected cities: New York City, Chicago, and Washington, DC. Each of these cities has a page where we can freely download the trip data.:\n",
    "\n",
    "- New York City (Citi Bike): [Link](https://www.citibikenyc.com/system-data)\n",
    "- Chicago (Divvy): [Link](https://www.divvybikes.com/system-data)\n",
    "- Washington, DC (Capital Bikeshare): [Link](https://www.capitalbikeshare.com/system-data)\n",
    "\n",
    "If you visit these pages, you will notice that each city has a different way of delivering its data. Chicago updates with new data twice a year, Washington DC is quarterly, and New York City is monthly. \n",
    "\n",
    "**Question 2**: However, there is still a lot of data for us to investigate, so it's a good idea to start off by looking at one entry from each of the cities we're going to analyze. I will run the first code cell below to load some packages and functions that I'll be using in your analysis. Then, complete the second code cell to print out the first trip recorded from each of the cities (the second line of each data file)."
   ]
  },
  {
   "cell_type": "code",
   "execution_count": 1,
   "metadata": {
    "collapsed": true
   },
   "outputs": [],
   "source": [
    "## import all necessary packages and functions.\n",
    "import csv # read and write csv files\n",
    "from datetime import datetime # operations to parse dates\n",
    "from pprint import pprint # use to print data structures like dictionaries in\n",
    "                          # a nicer way than the base print function.\n",
    "import calendar"
   ]
  },
  {
   "cell_type": "code",
   "execution_count": 5,
   "metadata": {
    "scrolled": true
   },
   "outputs": [
    {
     "name": "stdout",
     "output_type": "stream",
     "text": [
      "\n",
      "City: NYC\n",
      "OrderedDict([('tripduration', '839'),\n",
      "             ('starttime', '1/1/2016 00:09:55'),\n",
      "             ('stoptime', '1/1/2016 00:23:54'),\n",
      "             ('start station id', '532'),\n",
      "             ('start station name', 'S 5 Pl & S 4 St'),\n",
      "             ('start station latitude', '40.710451'),\n",
      "             ('start station longitude', '-73.960876'),\n",
      "             ('end station id', '401'),\n",
      "             ('end station name', 'Allen St & Rivington St'),\n",
      "             ('end station latitude', '40.72019576'),\n",
      "             ('end station longitude', '-73.98997825'),\n",
      "             ('bikeid', '17109'),\n",
      "             ('usertype', 'Customer'),\n",
      "             ('birth year', ''),\n",
      "             ('gender', '0')])\n",
      "\n",
      "City: Chicago\n",
      "OrderedDict([('trip_id', '9080545'),\n",
      "             ('starttime', '3/31/2016 23:30'),\n",
      "             ('stoptime', '3/31/2016 23:46'),\n",
      "             ('bikeid', '2295'),\n",
      "             ('tripduration', '926'),\n",
      "             ('from_station_id', '156'),\n",
      "             ('from_station_name', 'Clark St & Wellington Ave'),\n",
      "             ('to_station_id', '166'),\n",
      "             ('to_station_name', 'Ashland Ave & Wrightwood Ave'),\n",
      "             ('usertype', 'Subscriber'),\n",
      "             ('gender', 'Male'),\n",
      "             ('birthyear', '1990')])\n",
      "\n",
      "City: Washington\n",
      "OrderedDict([('Duration (ms)', '427387'),\n",
      "             ('Start date', '3/31/2016 22:57'),\n",
      "             ('End date', '3/31/2016 23:04'),\n",
      "             ('Start station number', '31602'),\n",
      "             ('Start station', 'Park Rd & Holmead Pl NW'),\n",
      "             ('End station number', '31207'),\n",
      "             ('End station', 'Georgia Ave and Fairmont St NW'),\n",
      "             ('Bike number', 'W20842'),\n",
      "             ('Member Type', 'Registered')])\n"
     ]
    }
   ],
   "source": [
    "def print_first_point(filename):\n",
    "    \"\"\"\n",
    "    This function prints and returns the first data point (second row) from\n",
    "    a csv file that includes a header row.\n",
    "    \"\"\"\n",
    "    # print city name for reference\n",
    "    city = filename.split('-')[0].split('/')[-1]\n",
    "    print('\\nCity: {}'.format(city))\n",
    "    \n",
    "    with open(filename, 'r') as f_in:\n",
    "        ## TODO: Use the csv library to set up a DictReader object. ##\n",
    "        ## see https://docs.python.org/3/library/csv.html           ##\n",
    "        trip_reader = csv.DictReader(f_in)\n",
    "        \n",
    "        ## TODO: Use a function on the DictReader object to read the     ##\n",
    "        ## first trip from the data file and store it in a variable.     ##\n",
    "        ## see https://docs.python.org/3/library/csv.html#reader-objects ##\n",
    "        first_trip = next(trip_reader)\n",
    "        \n",
    "        ## TODO: Use the pprint library to print the first trip. ##\n",
    "        ## see https://docs.python.org/3/library/pprint.html     ##\n",
    "        pprint(first_trip)\n",
    "    # output city name and first trip for later testing\n",
    "    return (city, first_trip)\n",
    "\n",
    "# list of files for each city\n",
    "data_files = ['NYC-CitiBike-2016.csv',\n",
    "              'Chicago-Divvy-2016.csv',\n",
    "              'Washington-CapitalBikeshare-2016.csv',]\n",
    "\n",
    "# print the first trip from each file, store in dictionary\n",
    "example_trips = {}\n",
    "for data_file in data_files:\n",
    "    city, first_trip = print_first_point(data_file)\n",
    "    example_trips[city] = first_trip\n"
   ]
  },
  {
   "cell_type": "markdown",
   "metadata": {},
   "source": [
    "<a id='condensing'></a>\n",
    "### Condensing the Trip Data\n",
    "\n",
    "It should also be observable from the above printout that each city provides different information. Even where the information is the same, the column names and formats are sometimes different. To make things as simple as possible when we get to the actual exploration, we should trim and clean the data. Cleaning the data makes sure that the data formats across the cities are consistent, while trimming focuses only on the parts of the data we are most interested in to make the exploration easier to work with.\n",
    "\n",
    "I will generate new data files with five values of interest for each trip: trip duration, starting month, starting hour, day of the week, and user type. Each of these may require additional wrangling depending on the city:\n",
    "\n",
    "- **Duration**: This has been given to us in seconds (New York, Chicago) or milliseconds (Washington). A more natural unit of analysis will be if all the trip durations are given in terms of minutes.\n",
    "- **Month**, **Hour**, **Day of Week**: Ridership volume is likely to change based on the season, time of day, and whether it is a weekday or weekend. The New York City data includes the seconds in their timestamps, while Washington and Chicago do not. The [`datetime`](https://docs.python.org/3/library/datetime.html) package will be very useful here to make the needed conversions.\n",
    "- **User Type**: It is possible that users who are subscribed to a bike-share system will have different patterns of use compared to users who only have temporary passes. Washington divides its users into two types: 'Registered' for users with annual, monthly, and other longer-term subscriptions, and 'Casual', for users with 24-hour, 3-day, and other short-term passes. The New York and Chicago data uses 'Subscriber' and 'Customer' for these groups, respectively. For consistency, I will convert the Washington labels to match the other two.\n",
    "\n",
    "\n",
    "**Question 3a**: What are the times of trips in seconds? What are the types of users for each city?(make sure that all user names are the same throughout each city)"
   ]
  },
  {
   "cell_type": "code",
   "execution_count": 11,
   "metadata": {
    "scrolled": false
   },
   "outputs": [],
   "source": [
    "def duration_in_mins(datum, city):\n",
    "    \"\"\"\n",
    "    Takes as input a dictionary containing info about a single trip (datum) and\n",
    "    its origin city (city) and returns the trip duration in units of minutes.\n",
    "    \n",
    "    Remember that Washington is in terms of milliseconds while Chicago and NYC\n",
    "    are in terms of seconds. \n",
    "    \n",
    "    HINT: The csv module reads in all of the data as strings, including numeric\n",
    "    values. You will need a function to convert the strings into an appropriate\n",
    "    numeric type when making your transformations.\n",
    "    see https://docs.python.org/3/library/functions.html\n",
    "    \"\"\"\n",
    "    # YOUR CODE HERE\n",
    "    if city == 'Washington':\n",
    "        seconds_object = int(datum['Duration (ms)'])\n",
    "        duration = seconds_object / 60000\n",
    "    else:\n",
    "        seconds_object = int(datum['tripduration'])\n",
    "        duration = seconds_object / 60\n",
    "    return duration\n",
    "   \n",
    "\n",
    "\n",
    "# Some tests to check that your code works. There should be no output if all of\n",
    "# the assertions pass. The `example_trips` dictionary was obtained from when\n",
    "# I printed the first trip from each of the original data files.\n",
    "tests = {'NYC': 13.9833,\n",
    "         'Chicago': 15.4333,\n",
    "         'Washington': 7.1231}\n",
    "\n",
    "for city in tests:\n",
    "    assert abs(duration_in_mins(example_trips[city], city) - tests[city]) < .001"
   ]
  },
  {
   "cell_type": "code",
   "execution_count": 12,
   "metadata": {
    "collapsed": true
   },
   "outputs": [],
   "source": [
    "def time_of_trip(datum, city):\n",
    "    \"\"\"\n",
    "    Takes as input a dictionary containing info about a single trip (datum) and\n",
    "    its origin city (city) and returns the month, hour, and day of the week in\n",
    "    which the trip was made.\n",
    "    \n",
    "    Remember that NYC includes seconds, while Washington and Chicago do not.\n",
    "    \"\"\"\n",
    "        \n",
    "        \n",
    "    # YOUR CODE HERE\n",
    "    if city == 'NYC':\n",
    "        datetime_object = datetime.strptime(datum['starttime'], '%m/%d/%Y %H:%M:%S')\n",
    "    elif city == 'Chicago':\n",
    "        datetime_object = datetime.strptime(datum['starttime'], '%m/%d/%Y %H:%M')\n",
    "    elif city == 'Washington':\n",
    "        datetime_object = datetime.strptime(datum['Start date'], '%m/%d/%Y %H:%M')\n",
    "    return ((datetime_object.month, datetime_object.hour, calendar.day_name[datetime_object.weekday()]))\n",
    "\n",
    "\n",
    "# Some tests to check that your code works. There should be no output if all of\n",
    "# the assertions pass. The `example_trips` dictionary was obtained from when\n",
    "# you printed the first trip from each of the original data files.\n",
    "tests = {'NYC': (1, 0, 'Friday'),\n",
    "         'Chicago': (3, 23, 'Thursday'),\n",
    "         'Washington': (3, 22, 'Thursday')}\n",
    "for city in tests:\n",
    "    assert time_of_trip(example_trips[city], city) == tests[city]"
   ]
  },
  {
   "cell_type": "code",
   "execution_count": 10,
   "metadata": {
    "collapsed": true
   },
   "outputs": [],
   "source": [
    "def type_of_user(datum, city):\n",
    "    \"\"\"\n",
    "    Takes as input a dictionary containing info about a single trip (datum) and\n",
    "    its origin city (city) and returns the type of system user that made the\n",
    "    trip.\n",
    "    \n",
    "    Remember that Washington has different category names compared to Chicago\n",
    "    and NYC. \n",
    "    \"\"\"\n",
    "    \n",
    "    # YOUR CODE HERE\n",
    "    if city in ['Chicago', 'NYC']:\n",
    "        return datum['usertype']\n",
    "    elif city == 'Washington':\n",
    "        if datum['Member Type'] == 'Registered': \n",
    "            user_type = 'Subscriber'\n",
    "        elif datum['Member Type'] == 'Casual':\n",
    "            user_type = 'Customer'\n",
    "    return user_type\n",
    "\n",
    "\n",
    "# Some tests to check that your code works. There should be no output if all of\n",
    "# the assertions pass.\n",
    "tests = {'NYC': 'Customer',\n",
    "         'Chicago': 'Subscriber',\n",
    "         'Washington': 'Subscriber'}\n",
    "for city in tests:\n",
    "    assert type_of_user(example_trips[city], city) == tests[city]"
   ]
  },
  {
   "cell_type": "markdown",
   "metadata": {},
   "source": [
    "**Question 3b**: By using the helper functions above, create a condensed data file for each city that has only the data types we are looking for - duration of trip, type of user, and month, hour, day of week."
   ]
  },
  {
   "cell_type": "code",
   "execution_count": 13,
   "metadata": {
    "collapsed": true
   },
   "outputs": [],
   "source": [
    "def condense_data(in_file, out_file, city):\n",
    "    \"\"\"\n",
    "    This function takes full data from the specified input file\n",
    "    and writes the condensed data to a specified output file. The city\n",
    "    argument determines how the input file will be parsed.\n",
    "    \n",
    "    HINT: See the cell below to see how the arguments are structured!\n",
    "    \"\"\"\n",
    "    with open(out_file, 'w') as f_out, open(in_file, 'r') as f_in:\n",
    "        # set up csv DictWriter object - writer requires column names for the\n",
    "        # first row as the \"fieldnames\" argument\n",
    "        out_colnames = ['duration', 'month', 'hour', 'day_of_week', 'user_type']        \n",
    "        trip_writer = csv.DictWriter(f_out, fieldnames = out_colnames)\n",
    "        trip_writer.writeheader()\n",
    "        \n",
    "        ## TODO: set up csv DictReader object ##\n",
    "        trip_reader = csv.DictReader(f_in)\n",
    "\n",
    "        # collect data from and process each row\n",
    "        for row in trip_reader:\n",
    "            # set up a dictionary to hold the values for the cleaned and trimmed\n",
    "            # data point\n",
    "\n",
    "            new_point = {}\n",
    "\n",
    "            ## TODO: use the helper functions to get the cleaned data from  ##\n",
    "            ## the original data dictionaries.                              ##\n",
    "            ## Note that the keys for the new_point dictionary should match ##\n",
    "            ## the column names set in the DictWriter object above. ##\n",
    "            new_point['duration'] = duration_in_mins(row, city)\n",
    "            new_point['month'] = time_of_trip(row, city)\n",
    "            new_point['hour'] = time_of_trip(row, city)\n",
    "            new_point['day_of_week'] = time_of_trip(row, city)\n",
    "            new_point['user_type'] = type_of_user(row, city)\n",
    "            \n",
    "\n",
    "            ## TODO: write the processed information to the output file.     ##\n",
    "            ## see https://docs.python.org/3/library/csv.html#writer-objects ##\n",
    "            trip_writer.writerow(new_point)\n",
    "\n",
    "            "
   ]
  },
  {
   "cell_type": "code",
   "execution_count": 50,
   "metadata": {},
   "outputs": [
    {
     "name": "stdout",
     "output_type": "stream",
     "text": [
      "\n",
      "City: Washington\n",
      "OrderedDict([('duration', '7.123116666666666'),\n",
      "             ('month', \"(3, 22, 'Thursday')\"),\n",
      "             ('hour', \"(3, 22, 'Thursday')\"),\n",
      "             ('day_of_week', \"(3, 22, 'Thursday')\"),\n",
      "             ('user_type', 'Subscriber')])\n",
      "\n",
      "City: Chicago\n",
      "OrderedDict([('duration', '15.433333333333334'),\n",
      "             ('month', \"(3, 23, 'Thursday')\"),\n",
      "             ('hour', \"(3, 23, 'Thursday')\"),\n",
      "             ('day_of_week', \"(3, 23, 'Thursday')\"),\n",
      "             ('user_type', 'Subscriber')])\n",
      "\n",
      "City: NYC\n",
      "OrderedDict([('duration', '13.983333333333333'),\n",
      "             ('month', \"(1, 0, 'Friday')\"),\n",
      "             ('hour', \"(1, 0, 'Friday')\"),\n",
      "             ('day_of_week', \"(1, 0, 'Friday')\"),\n",
      "             ('user_type', 'Customer')])\n"
     ]
    }
   ],
   "source": [
    "# Run this cell to check your work\n",
    "city_info = {'Washington': {'in_file': './data/Washington-CapitalBikeshare-2016.csv',\n",
    "                            'out_file': './data/Washington-2016-Summary.csv'},\n",
    "             'Chicago': {'in_file': './data/Chicago-Divvy-2016.csv',\n",
    "                         'out_file': './data/Chicago-2016-Summary.csv'},\n",
    "             'NYC': {'in_file': './data/NYC-CitiBike-2016.csv',\n",
    "                     'out_file': './data/NYC-2016-Summary.csv'}}\n",
    "\n",
    "for city, filenames in city_info.items():\n",
    "    condense_data(filenames['in_file'], filenames['out_file'], city)\n",
    "    print_first_point(filenames['out_file'])"
   ]
  },
  {
   "cell_type": "markdown",
   "metadata": {},
   "source": [
    "<a id='eda'></a>\n",
    "## Exploratory Data Analysis\n",
    "\n",
    "Now that we have the data collected and wrangled, we're ready to start exploring the data. In this section I will write some code to compute descriptive statistics from the data. I will also create some histograms from 'matplotlib' for the data files.\n",
    "\n",
    "<a id='statistics'></a>\n",
    "### Statistics\n",
    "\n",
    "First, let's compute some basic counts. The first cell below contains a function that uses the csv module to iterate through a provided data file, returning the number of trips made by subscribers and customers. The second cell runs this function on the example Bay Area data in the `/examples/` folder. \n",
    "\n",
    "**Question 4a**: Which city has the highest number of trips? Which city has the highest proportion of trips made by subscribers? Which city has the highest proportion of trips made by short-term customers?\n",
    "\n",
    "**Answer**: New York City has the highest number of trips. New York City has the highest total number of trips made by subscribers. Chicago has the highest proportion of trips made by short-term customers."
   ]
  },
  {
   "cell_type": "code",
   "execution_count": 14,
   "metadata": {
    "collapsed": true
   },
   "outputs": [],
   "source": [
    "def number_of_trips(filename):\n",
    "    \"\"\"\n",
    "    This function reads in a file with trip data and reports the number of\n",
    "    trips made by subscribers, customers, and total overall.\n",
    "    \"\"\"\n",
    "    with open(filename, 'r') as f_in:\n",
    "        # set up csv reader object\n",
    "        reader = csv.DictReader(f_in)\n",
    "        \n",
    "        # initialize count variables\n",
    "        n_subscribers = 0\n",
    "        n_customers = 0\n",
    "        \n",
    "        # tally up ride types\n",
    "        for row in reader:\n",
    "            if row['user_type'] == 'Subscriber':\n",
    "                n_subscribers += 1\n",
    "            else:\n",
    "                n_customers += 1\n",
    "        \n",
    "        # compute total number of rides\n",
    "        n_total = n_subscribers + n_customers\n",
    "        \n",
    "        # return tallies as a tuple\n",
    "        return(n_subscribers, n_customers, n_total)"
   ]
  },
  {
   "cell_type": "code",
   "execution_count": 16,
   "metadata": {},
   "outputs": [
    {
     "name": "stdout",
     "output_type": "stream",
     "text": [
      "(5666, 633, 6299)\n"
     ]
    }
   ],
   "source": [
    "# I will run this cell for an example of what the output will look like on the city files.\n",
    "data_file = 'BayArea-Y3-Summary.csv'\n",
    "print(number_of_trips(data_file))"
   ]
  },
  {
   "cell_type": "code",
   "execution_count": 19,
   "metadata": {
    "collapsed": true
   },
   "outputs": [],
   "source": [
    "city_files = [['Washington', 'Registered', 'Washington-2016-Summary.csv'],\n",
    "             ['Chicago', 'Subscriber', 'Chicago-2016-Summary.csv'],\n",
    "             ['New York', 'Subscriber', 'NYC-2016-Summary.csv']]\n",
    "def number_of_trips_updated(filename, user):\n",
    "    \"\"\"\n",
    "    This function reads in a file with trip data and reports the number of\n",
    "    trips made by subscribers, customers, and total overall.\n",
    "    \"\"\"\n",
    "        \n",
    "    with open(filename, 'r') as f_in:\n",
    "        # set up csv reader object\n",
    "        reader = csv.DictReader(f_in)\n",
    "        \n",
    "        # initialize count variables\n",
    "        n_subscribers = 0\n",
    "        n_customers = 0\n",
    "        \n",
    "        # tally up ride types\n",
    "        for row in reader:\n",
    "            if row['user_type'] == 'Subscriber':\n",
    "                n_subscribers += 1\n",
    "            else:\n",
    "                n_customers += 1\n",
    "        \n",
    "        # compute total number of rides\n",
    "        n_total = n_subscribers + n_customers\n",
    "        \n",
    "        # compute the proportion of trips made by subscribers, rounded to 3 decimals\n",
    "        subscribers_proportion = round(n_subscribers / n_total, 3)\n",
    "        \n",
    "        # return tallies as a tuple\n",
    "        return(n_subscribers, n_customers, n_total, subscribers_proportion)"
   ]
  },
  {
   "cell_type": "code",
   "execution_count": 20,
   "metadata": {},
   "outputs": [
    {
     "name": "stdout",
     "output_type": "stream",
     "text": [
      "The number of trips made by subscribers, customers, the total overall and \n",
      "the proportion of trips made by the subscribers are:\n",
      "\n",
      "For Washington: (51753, 14573, 66326, 0.78)\n",
      "For Chicago: (54982, 17149, 72131, 0.762)\n",
      "For New York: (245896, 30902, 276798, 0.888)\n"
     ]
    }
   ],
   "source": [
    "print('The number of trips made by subscribers, customers, the total overall and \\n'\n",
    "      'the proportion of trips made by the subscribers are:')\n",
    "print(\"\" )\n",
    "\n",
    "for entry in city_files:\n",
    "    print('For {}: {}'.format(entry[0], number_of_trips_updated(entry[2], entry[1])))"
   ]
  },
  {
   "cell_type": "markdown",
   "metadata": {},
   "source": [
    "**Question 4b**: Bike-share systems are designed for riders to take short trips. Most of the time, users are allowed to take trips of 30 minutes or less with no additional charges, with overage charges made for trips of longer than that duration. What is the average trip length for each city? What proportion of rides made in each city are longer than 30 minutes?\n",
    "\n",
    "**Answer**: The average trip length for Washington, Chicago, and New York is 18.93 minutes, 16.56 minutes, and 15.81 minutes respectively. The proportion of rides that are longer than 30 minutes for Washington, Chicago, and New York City is 10.8%, 8.3%, and 7.3% respectively."
   ]
  },
  {
   "cell_type": "code",
   "execution_count": 21,
   "metadata": {
    "scrolled": false
   },
   "outputs": [
    {
     "name": "stdout",
     "output_type": "stream",
     "text": [
      "The average trip length for each city, followed by \n",
      "the proportion of rides made in each city that are longer than 30 minutes:\n",
      "\n",
      "For Washington: (18.933, 0.108)\n",
      "For Chicago: (16.564, 0.083)\n",
      "For New York: (15.813, 0.073)\n"
     ]
    }
   ],
   "source": [
    "## The csv module reads in all of the data as strings, including        ##\n",
    "## numeric values. I will need a function to convert the strings        ##\n",
    "## into an appropriate numeric type before aggregating the data.        ##\n",
    "\n",
    "city_files = [['Washington', 'Registered', 'Washington-2016-Summary.csv'],\n",
    "             ['Chicago', 'Subscriber', 'Chicago-2016-Summary.csv'],\n",
    "             ['New York', 'Subscriber', 'NYC-2016-Summary.csv']]\n",
    "def average_duration(filename, city):\n",
    "    \"\"\"\n",
    "    This function reads in a file with trip data and the corresponding city, \n",
    "    and reports average duration \n",
    "    and the percentage of trips that are longer than 30 minutes.\n",
    "    \"\"\"\n",
    "        \n",
    "    with open(filename, 'r') as f_in:\n",
    "        # set up csv reader object\n",
    "        reader = csv.DictReader(f_in)\n",
    "        \n",
    "        # initialize count variables\n",
    "        tot_duration = 0\n",
    "        longer_trips = 0\n",
    "        \n",
    "        # get the sum of all trip durations and the number of trips loger than 30 minutes\n",
    "        # round to 3 decimals\n",
    "        for row in reader:\n",
    "            tot_duration = tot_duration + round(float(row['duration']),3)\n",
    "            if float(row['duration']) > 30:\n",
    "                longer_trips = longer_trips + 1\n",
    "        \n",
    "        # get the total number of rides, using a previously defined function\n",
    "        for entry in city_files:\n",
    "            if city ==entry[0]: \n",
    "                n_total = number_of_trips_updated(filename, entry[1])[2]\n",
    "        \n",
    "        \n",
    "        # return the average duration and the proportion of trips loger than 30 minutes \n",
    "        return(round(tot_duration/n_total, 3), round(longer_trips/n_total, 3))\n",
    "    \n",
    "print('The average trip length for each city, followed by \\n''the proportion of rides made in each city that are longer than 30 minutes:')\n",
    "print(\"\")\n",
    "\n",
    "for entry in city_files:\n",
    "    print('For {}: {}'.format(entry[0], average_duration(entry[2], entry[0])))"
   ]
  },
  {
   "cell_type": "markdown",
   "metadata": {},
   "source": [
    "**Question 4c**: I will dig deeper into the question of trip duration based on ridership. By choosing Chicago for example, which type of user takes longer rides on average: Subscribers or Customers?\n",
    "\n",
    "**Answer**: Customers take more trips than subscribers on average. Within Chicago, customers take on average twice as long as subscribers."
   ]
  },
  {
   "cell_type": "code",
   "execution_count": 22,
   "metadata": {
    "collapsed": true
   },
   "outputs": [],
   "source": [
    "## I will use this function to answer question 4c ##\n",
    "\n",
    "city_files = [['Washington', 'Registered', 'Washington-2016-Summary.csv'],\n",
    "             ['Chicago', 'Subscriber', 'Chicago-2016-Summary.csv'],\n",
    "             ['New York', 'Subscriber', 'NYC-2016-Summary.csv']]\n",
    "def average_duration_split(city, user, filename):\n",
    "    \"\"\"\n",
    "    This function reads an entry in city_files and reports \n",
    "    the average length for trips made by subscribers and\n",
    "    the average trip length for trips made by short term customers.\n",
    "    \"\"\"\n",
    "        \n",
    "    with open(filename, 'r') as f_in:\n",
    "        # set up csv reader object\n",
    "        reader = csv.DictReader(f_in)\n",
    "        \n",
    "        # initialize count variables\n",
    "        duration_subscriber = 0\n",
    "        duration_customer = 0\n",
    "        \n",
    "        # find totals for trips durations, by user type\n",
    "        for row in reader:\n",
    "            if row['user_type'] == 'Subscriber':\n",
    "                duration_subscriber = duration_subscriber + round(float(row['duration']),3)\n",
    "            else:\n",
    "                duration_customer = duration_customer + round(float(row['duration']),3)\n",
    "        \n",
    "        # get total number of rides for each type of rider\n",
    "        for entry in city_files:\n",
    "            if city == entry[0]: \n",
    "                n_subscribers = number_of_trips_updated(entry[2], entry[1])[0]\n",
    "                n_customers = number_of_trips_updated(entry[2], entry[1])[1]\n",
    "        \n",
    "        # return the averages as a tuple\n",
    "        return(round(duration_subscriber/n_subscribers,3), round(duration_customer/n_customers,3))\n"
   ]
  },
  {
   "cell_type": "code",
   "execution_count": 23,
   "metadata": {},
   "outputs": [
    {
     "name": "stdout",
     "output_type": "stream",
     "text": [
      "The average trip length for each city, split by type of users,\n",
      "for Subscribers and for short-term Customers:\n",
      "\n",
      "For Washington: (12.528, 41.678)\n",
      "For Chicago: (12.067, 30.98)\n",
      "For New York: (13.681, 32.776)\n"
     ]
    }
   ],
   "source": [
    "### print the information obtained from average_duration_split function for each city\n",
    "print('The average trip length for each city, split by type of users,\\n'\n",
    "      'for Subscribers and for short-term Customers:')\n",
    "print(\"\")\n",
    "\n",
    "for entry in city_files:\n",
    "    print('For {}: {}'.format(entry[0], average_duration_split(entry[0], entry[1], entry[2])))"
   ]
  },
  {
   "cell_type": "markdown",
   "metadata": {},
   "source": [
    "<a id='visualizations'></a>\n",
    "### Visualizations\n",
    "\n",
    "The last set of values that I computed have pulled up an interesting result. While the mean trip time for Subscribers is well under 30 minutes, the mean trip time for Customers is actually _above_ 30 minutes! It will be interesting for us to look at how the trip times are distributed. In order to do this, a new library will be introduced here, `matplotlib`. "
   ]
  },
  {
   "cell_type": "code",
   "execution_count": 25,
   "metadata": {},
   "outputs": [
    {
     "data": {
      "image/png": "[encoded data removed]",
      "text/plain": [
       "<matplotlib.figure.Figure at 0x10439d6a0>"
      ]
     },
     "metadata": {},
     "output_type": "display_data"
    }
   ],
   "source": [
    "# load library\n",
    "import matplotlib.pyplot as plt\n",
    "\n",
    "# this is a 'magic word' that allows for plots to be displayed\n",
    "# inline with the notebook.\n",
    "%matplotlib inline \n",
    "\n",
    "# example histogram, data taken from bay area sample\n",
    "data = [ 7.65,  8.92,  7.42,  5.50, 16.17,  4.20,  8.98,  9.62, 11.48, 14.33,\n",
    "        19.02, 21.53,  3.90,  7.97,  2.62,  2.67,  3.08, 14.40, 12.90,  7.83,\n",
    "        25.12,  8.30,  4.93, 12.43, 10.60,  6.17, 10.88,  4.78, 15.15,  3.53,\n",
    "         9.43, 13.32, 11.72,  9.85,  5.22, 15.10,  3.95,  3.17,  8.78,  1.88,\n",
    "         4.55, 12.68, 12.38,  9.78,  7.63,  6.45, 17.38, 11.90, 11.52,  8.63,]\n",
    "plt.hist(data)\n",
    "plt.title('Distribution of Trip Durations')\n",
    "plt.xlabel('Duration (m)')\n",
    "plt.show()"
   ]
  },
  {
   "cell_type": "markdown",
   "metadata": {},
   "source": [
    "In the above cell, we collected fifty trip times in a list, and passed this list as the first argument to the `.hist()` function. This function performs the computations and creates plotting objects for generating a histogram, but the plot is actually not rendered until the `.show()` function is executed. The `.title()` and `.xlabel()` functions provide some labeling for plot context.\n",
    "\n",
    "I will now use these functions to create a histogram of the trip times for the city I selected in question 4c."
   ]
  },
  {
   "cell_type": "code",
   "execution_count": 27,
   "metadata": {},
   "outputs": [
    {
     "data": {
      "image/png": "[encoded data removed]",
      "text/plain": [
       "<matplotlib.figure.Figure at 0x103082c50>"
      ]
     },
     "metadata": {},
     "output_type": "display_data"
    }
   ],
   "source": [
    "## I will collect all of the trip times as a list and then use ##\n",
    "## pyplot functions to generate a histogram of trip times.     ##\n",
    "\n",
    "with open(city_files[1][2], 'r') as f_in:\n",
    "    # set up csv reader object\n",
    "    reader = list(csv.DictReader(f_in))\n",
    "        \n",
    "### create an empty list for the data to be saved in\n",
    "times_list = []\n",
    "\n",
    "### save all the trip durations, as float numbers in a list\n",
    "for i in range(0, len(reader)):\n",
    "    times_list.append(float(reader[i]['duration']))\n",
    "            \n",
    "### a naive histogram of the trip durations, all riders in Chicago \n",
    "\n",
    "plt.hist(times_list)\n",
    "\n",
    "### title and axes labelling\n",
    "plt.title('\\n Distribution of Trip Durations - Chicago \\n', fontsize=16)\n",
    "plt.xlabel('Duration (mins)', fontsize = 14)\n",
    "plt.ylabel('Number of Trips', fontsize = 14)\n",
    "plt.show()\n"
   ]
  },
  {
   "cell_type": "markdown",
   "metadata": {},
   "source": [
    "The plot consists of one extremely tall bar on the left, maybe a very short second bar, and a whole lot of empty space in the center and right. Take a look at the duration values on the x-axis. This suggests that there are some highly infrequent outliers in the data. Instead of reprocessing the data, I will use additional parameters with the `.hist()` function to limit the range of data that is plotted. Documentation for the function can be found [[here]](https://matplotlib.org/devdocs/api/_as_gen/matplotlib.pyplot.hist.html#matplotlib.pyplot.hist).\n",
    "\n",
    "**Question 5**: We will use the parameters of the `.hist()` function to plot the distribution of trip times for the Subscribers and Customers in Chicago. This time, we will add limits to the plots so that only trips of duration less than 75 minutes are plotted. As a bonus, we will set the plots up so that bars are in five-minute wide intervals. For each group, where is the peak of each distribution? How would you describe the shape of each distribution?\n",
    "\n",
    "**Answer**: Peak distribution of number of trips is at 1272 trips for Subscribers. These peak number of trips last between 5-10 minutes. For Customers, peak distribution of number of trips is 1432 and these trips last between 20-25 minutes. Both graphs are positively skewed."
   ]
  },
  {
   "cell_type": "code",
   "execution_count": 30,
   "metadata": {},
   "outputs": [
    {
     "data": {
      "image/png": "[encoded data removed]",
      "text/plain": [
       "<matplotlib.figure.Figure at 0x1028362e8>"
      ]
     },
     "metadata": {},
     "output_type": "display_data"
    }
   ],
   "source": [
    "## This cell will take in the duration of each city and output a histogram of the duration of ##\n",
    "## Subscribers and Customers in Chicago.                                                      ##\n",
    "\n",
    "def durations_list(entry):\n",
    "    # set up csv reader object\n",
    "    with open(entry[2], 'r') as f_in:\n",
    "        reader = list(csv.DictReader(f_in))\n",
    "        \n",
    "        # create empty lists for each rider type\n",
    "        total_riders = [] \n",
    "        subscribers = [] \n",
    "        customers = [] \n",
    "        \n",
    "        # tally up all the duration times for each user type\n",
    "        for i in range(0, len(reader)):\n",
    "            total_riders.append(float(reader[i]['duration']))   \n",
    "            if reader[i]['user_type'] == entry[1]:\n",
    "                subscribers.append(float(reader[i]['duration']))\n",
    "            else:\n",
    "                customers.append(float(reader[i]['duration']))\n",
    "        return(total_riders, subscribers, customers)\n",
    "\n",
    "# set up city_files for the histogram\n",
    "city_files = [['Washington', 'Registered', 'Washington-2016-Summary.csv'],\n",
    "             ['Chicago', 'Subscriber', 'Chicago-2016-Summary.csv'],\n",
    "             ['New York', 'Subscriber', 'NYC-2016-Summary.csv']]   \n",
    "\n",
    "# run the function above for the city of chicago\n",
    "chicago_total = durations_list(city_files[1])[0]\n",
    "chicago_subscribers = durations_list(city_files[1])[1]\n",
    "chicago_customers = durations_list(city_files[1])[2]   \n",
    "\n",
    "# run the necessary packages\n",
    "import matplotlib.pyplot as plt\n",
    "% matplotlib inline\n",
    "\n",
    "# set up histogram characteristics\n",
    "x_labels = [0,5,10,15,20,25,30,35,40,45,50,55,60,65,70,75]\n",
    "plt.figure(figsize=(20, 6), dpi= 50, linewidth=4, frameon=True)\n",
    "\n",
    "# set titles and axes for the Subscribers histogram\n",
    "plt.subplot(1,2,1)\n",
    "plt.hist(chicago_subscribers, facecolor='r', alpha= 0.7, bins=x_labels, rwidth=0.5)\n",
    "plt.title('Duration of Trips - Subscribers', fontsize=28)\n",
    "plt.xlabel('Duration(mins)', fontsize=24)\n",
    "plt.ylabel('Number of Trips', fontsize=24)\n",
    "plt.axis([0,75,0,21000])\n",
    "plt.xticks(x_labels, fontsize=22)\n",
    "plt.yticks(fontsize=22)\n",
    "\n",
    "# set up titles and axes for the Customers histogram\n",
    "plt.subplot(1,2,2)\n",
    "plt.hist(chicago_customers, facecolor='b', alpha=0.7, bins=x_labels, rwidth=0.5)\n",
    "plt.title('Duration of Trips - Customers', fontsize=28)\n",
    "plt.xlabel('Duration(mins)', fontsize=24)\n",
    "plt.ylabel('Number of Trips', fontsize=24)\n",
    "plt.axis([0,75,0,3500])\n",
    "plt.xticks(x_labels, fontsize=22)\n",
    "plt.yticks(fontsize=22)\n",
    "plt.show()"
   ]
  },
  {
   "cell_type": "code",
   "execution_count": 39,
   "metadata": {},
   "outputs": [
    {
     "name": "stdout",
     "output_type": "stream",
     "text": [
      "The maximum number of trips for Subscribers during peak is 1272.45:\n",
      "The maximum number of trips for Customers during peak is 1439.4166666666667:\n"
     ]
    }
   ],
   "source": [
    "print('The maximum number of trips for Subscribers during peak is {}:'.format(max(chicago_subscribers)))\n",
    "print('The maximum number of trips for Customers during peak is {}:'.format(max(chicago_customers)))"
   ]
  },
  {
   "cell_type": "markdown",
   "metadata": {
    "collapsed": true
   },
   "source": [
    "<a id='eda_continued'></a>\n",
    "## Performing A Final Analysis\n",
    "\n",
    "So far, we've performed an initial exploration into the data available. We have compared the relative volume of trips made between three U.S. cities and the ratio of trips made by Subscribers and Customers. For Chicago, we have investigated differences between Subscribers and Customers in terms of how long a typical trip lasts. Now it is time to explore a final question.\n",
    "\n",
    "**Question 6**: How does ridership differ by month or season? Which month / season has the highest ridership? Does the ratio of Subscriber trips to Customer trips change depending on the month or season?\n",
    "\n",
    "**Answer**: Ridership differs each season in that the most number of riders occur in the summer months with the least in winter months. June has the highest number of riders. There is approximately double the amount of Subscribers to Customers in the summer months. In the winter months, there is approximately a 1:0 ratio of Subscribers to Customers."
   ]
  },
  {
   "cell_type": "code",
   "execution_count": 31,
   "metadata": {
    "collapsed": true
   },
   "outputs": [],
   "source": [
    "def condense_Chicago(in_file, out_file, city):\n",
    "    \"\"\"\n",
    "    This function takes full data from the specified input file\n",
    "    and writes the condensed data to a specified output file. The city\n",
    "    argument determines how the input file will be parsed.\n",
    "    \n",
    "    HINT: See the cell below to see how the arguments are structured!\n",
    "    \"\"\"\n",
    "    with open(out_file, 'w') as f_out, open(in_file, 'r') as f_in:\n",
    "        # set up csv DictWriter object - writer requires column names for the\n",
    "        # first row as the \"fieldnames\" argument\n",
    "        out_colnames = ['duration', 'month', 'hour', 'day_of_week','user_type']        \n",
    "        trip_writer = csv.DictWriter(f_out, fieldnames = out_colnames)\n",
    "        trip_writer.writeheader()\n",
    "        \n",
    "        ## TODO: set up csv DictReader object ##\n",
    "        trip_reader = csv.DictReader(f_in)\n",
    "\n",
    "        # collect data from and process each row\n",
    "        for row in trip_reader:\n",
    "            \n",
    "            # set up a dictionary to hold the values for the cleaned and trimmed\n",
    "            # data point\n",
    "            new_point = {}\n",
    "\n",
    "            ## TODO: use the helper functions to get the cleaned data from  ##\n",
    "            ## the original data dictionaries.                              ##\n",
    "            ## Note that the keys for the new_point dictionary should match ##\n",
    "            ## the column names set in the DictWriter object above. ##\n",
    "            new_point['duration'] = duration_in_mins(row, city)\n",
    "            new_point['month'] = time_of_trip(row, city)[0]\n",
    "            new_point['hour'] = time_of_trip(row, city)[1]\n",
    "            new_point['day_of_week'] = time_of_trip(row, city)[2]\n",
    "            new_point['user_type'] = type_of_user(row, city)\n",
    "            \n",
    "\n",
    "            ## TODO: write the processed information to the output file.     ##\n",
    "            ## see https://docs.python.org/3/library/csv.html#writer-objects ##\n",
    "            trip_writer.writerow(new_point)                                    ##"
   ]
  },
  {
   "cell_type": "code",
   "execution_count": 34,
   "metadata": {},
   "outputs": [],
   "source": [
    "# This will create a new file from the Chicago city file#\n",
    "in_file_Chicago = 'Chicago-Divvy-2016.csv'\n",
    "out_file_Chicago = 'Chicago-Divvy-2016-updated.csv'\n",
    "\n",
    "# Perform the helper function stated above #\n",
    "condense_Chicago(in_file_Chicago, out_file_Chicago, 'Chicago')"
   ]
  },
  {
   "cell_type": "code",
   "execution_count": 35,
   "metadata": {
    "collapsed": true
   },
   "outputs": [],
   "source": [
    "# we will need to index the months \n",
    "months = ['1', '2', '3', '4', '5', '6', '7', '8', '9', '10', '11', '12']\n",
    "\n",
    "# create empty lists for each user type \n",
    "monthly_subs = [] \n",
    "monthly_cust = [] \n",
    "monthly_total = []\n",
    "\n",
    "def monthly_trips(month):\n",
    "    \"\"\" \n",
    "    This function takes in the month and data from specified input file and \n",
    "    outputs the number of user types by month.\n",
    "    \"\"\"\n",
    "    # set up csv dictReader object\n",
    "    with open(out_file_Chicago, 'r') as f_in:\n",
    "        reader = csv.DictReader(f_in)\n",
    "\n",
    "        # start tally count at 0\n",
    "        trips_Subs = 0\n",
    "        trips_Cust = 0\n",
    "        \n",
    "        # tally up the number of user types\n",
    "        for row in reader:\n",
    "            if row['month'] == month and row['user_type'] == 'Subscriber':\n",
    "                trips_Subs += 1\n",
    "            if row['month'] == month and row['user_type'] == 'Customer':\n",
    "                trips_Cust += 1\n",
    "        \n",
    "        # create a total count        \n",
    "        trips_total = trips_Subs + trips_Cust\n",
    "        \n",
    "        # return the counted groups\n",
    "        return(trips_Subs, trips_Cust, trips_total)\n",
    "\n",
    "# this loop will takes in month and outputs of 'monthly_trips' function\n",
    "# and output the monthly type of users.\n",
    "for i in months:\n",
    "    monthly_subs.append(monthly_trips(i)[0])\n",
    "    monthly_cust.append(monthly_trips(i)[1])\n",
    "    monthly_total.append(monthly_trips(i)[2])\n",
    "#optional test\n",
    "#print(monthly_subs)\n",
    "#print(monthly_cust)\n",
    "#print(monthly_total)"
   ]
  },
  {
   "cell_type": "code",
   "execution_count": 38,
   "metadata": {},
   "outputs": [
    {
     "data": {
      "image/png": "[encoded data removed]",
      "text/plain": [
       "<matplotlib.figure.Figure at 0x109feab38>"
      ]
     },
     "metadata": {},
     "output_type": "display_data"
    }
   ],
   "source": [
    "# import necessary packages and functions\n",
    "import numpy as np\n",
    "import matplotlib.pyplot as plt\n",
    "% matplotlib inline\n",
    "\n",
    "# name all months for the x labels later\n",
    "month=('Jan','Feb','Mar','Apr','May','Jun','Jul','Aug','Sept','Oct','Nov','Dec')\n",
    "\n",
    "# set up the x-ticks\n",
    "N=12\n",
    "ind = np.arange(N)\n",
    "width =0.75\n",
    "\n",
    "# set up the y-ticks\n",
    "heights_subs = monthly_subs\n",
    "heights_cust = monthly_cust\n",
    "\n",
    "# plot the both bar charts \n",
    "bar_1 = plt.bar(ind, heights_subs, width=0.75)\n",
    "bar_2 = plt.bar(ind, heights_cust, width=0.75)\n",
    "\n",
    "# set up the x and y ticks\n",
    "plt.xticks(ind, month, fontsize = 12) \n",
    "plt.yticks(fontsize=16)\n",
    "\n",
    "# set up the titles and axes\n",
    "plt.title('Distribution of Rides per Month and By Rider Type', fontsize=23)\n",
    "plt.xlabel('Month', fontsize=20)\n",
    "plt.ylabel('Number of rides', fontsize=20)\n",
    "\n",
    "# create a legend for the bar chart\n",
    "plt.legend((bar_1[0], bar_2[0]), ('Subscribers', 'Customers'), fontsize=9, loc=1)\n",
    "\n",
    "# use the magic word to create the bar chart\n",
    "plt.show()"
   ]
  },
  {
   "cell_type": "markdown",
   "metadata": {},
   "source": [
    "<a id='conclusions'></a>\n",
    "## Conclusions\n",
    "\n",
    "**Question 7**: Putting the bike share data aside, think of a topic or field of interest where you would like to be able to apply the techniques of data science. What would you like to be able to learn from your chosen subject?\n",
    "\n",
    "**Answer**: I would like to apply data science techniques to psychology. For example, I would like to apply predictive analytics to the language that schizophrenics use to detect when they are about to have a relapse.\n",
    "\n",
    "> **Tip**:\n",
    "\n",
    "> If you are working on this project via the Project Notebook page in the classroom, you can also submit this project directly from the workspace. **Before you do that**, you should save an HTML copy of the completed project to the workspace by running the code cell below. If it worked correctly, the output code should be a 0, and if you click on the jupyter icon in the upper left, you should see your .html document in the workspace directory. Alternatively, you can download the .html copy of your report following the steps in the previous paragraph, then _upload_ the report to the directory (by clicking the jupyter icon).\n",
    "\n",
    "> Either way, once you've gotten the .html report in your workspace, you can complete your submission by clicking on the \"Submit Project\" button to the lower-right hand side of the workspace."
   ]
  },
  {
   "cell_type": "code",
   "execution_count": 41,
   "metadata": {},
   "outputs": [
    {
     "data": {
      "text/plain": [
       "255"
      ]
     },
     "execution_count": 41,
     "metadata": {},
     "output_type": "execute_result"
    }
   ],
   "source": [
    "from subprocess import call\n",
    "call(['python', '-m', 'nbconvert', 'Bike_Share_Analysis.ipynb'])"
   ]
  }
 ],
 "metadata": {
  "anaconda-cloud": {},
  "kernelspec": {
   "display_name": "Python 3",
   "language": "python",
   "name": "python3"
  },
  "language_info": {
   "codemirror_mode": {
    "name": "ipython",
    "version": 3
   },
   "file_extension": ".py",
   "mimetype": "text/x-python",
   "name": "python",
   "nbconvert_exporter": "python",
   "pygments_lexer": "ipython3",
   "version": "3.6.3"
  }
 },
 "nbformat": 4,
 "nbformat_minor": 1
}
