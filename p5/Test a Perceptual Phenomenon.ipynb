{
 "cells": [
  {
   "cell_type": "markdown",
   "metadata": {},
   "source": [
    "### Analyzing the Stroop Effect\n",
    "Perform the analysis in the space below. Remember to follow [the instructions](https://docs.google.com/document/d/1-OkpZLjG_kX9J6LIQ5IltsqMzVWjh36QpnP2RYpVdPU/pub?embedded=True) and review the [project rubric](https://review.udacity.com/#!/rubrics/71/view) before submitting. Once you've completed the analysis and write up, download this file as a PDF or HTML file and submit in the final section of this lesson.\n",
    "\n",
    "\n",
    "(1) What is the independent variable? What is the dependent variable?"
   ]
  },
  {
   "cell_type": "markdown",
   "metadata": {},
   "source": [
    "**The independent variable is the type of words - congruent words or incongruent words.\n",
    "The dependent variable is the time it takes to say the color of the word.**"
   ]
  },
  {
   "cell_type": "markdown",
   "metadata": {},
   "source": [
    "(2) What is an appropriate set of hypotheses for this task? Specify your null and alternative hypotheses, and clearly define any notation used. Justify your choices."
   ]
  },
  {
   "cell_type": "markdown",
   "metadata": {},
   "source": [
    "**We have two groups since the time is being recorded for two variables.** \n",
    "\n",
    "**Group 1: Mean time for congruent words($\\mu_{c}$)**<br />\n",
    "**Group 2: Mean time for incongruent words($\\mu_{i}$)**\n",
    "\n",
    "**Null Hypothesis($H_{0}$): The average time it takes for the congruent words does not exceed the time for incongruent words to be pronounced; there is no difference in mean times between the two types of words.** <br />\n",
    "**Alternative Hypothesis($H_{1}$): The average time it takes for the congruent words and incongruent words is statistically significant; there is a difference in mean times between the two types of words.**\n",
    "<center>**$H_{0}$: $\\mu_{c}$ = $\\mu_{i}$**</center><br />\n",
    "<center>**$H_{1}$: $\\mu_{c}$ != $\\mu_{i}$**</center><br />\n",
    "\n",
    "** We will use a one-tailed t-test for dependent means for this project. We want to know whether there is a difference between the two groups, not which direction the difference is in. This is also dependent because we have the same group undergoing a condition to determine if the condition affects the groups. The independent variable would be the Stroop Effect test and the dependent variable is the time it takes for the groups to pronounce the words. The groups are being measured on the same dependent variable on two occasions to see if there is an effect of the independent variable. **"
   ]
  },
  {
   "cell_type": "markdown",
   "metadata": {},
   "source": [
    "(3) Report some descriptive statistics regarding this dataset. Include at least one measure of central tendency and at least one measure of variability. The name of the data file is 'stroopdata.csv'."
   ]
  },
  {
   "cell_type": "code",
   "execution_count": 1,
   "metadata": {},
   "outputs": [
    {
     "data": {
      "text/html": [
       "<div>\n",
       "<style>\n",
       "    .dataframe thead tr:only-child th {\n",
       "        text-align: right;\n",
       "    }\n",
       "\n",
       "    .dataframe thead th {\n",
       "        text-align: left;\n",
       "    }\n",
       "\n",
       "    .dataframe tbody tr th {\n",
       "        vertical-align: top;\n",
       "    }\n",
       "</style>\n",
       "<table border=\"1\" class=\"dataframe\">\n",
       "  <thead>\n",
       "    <tr style=\"text-align: right;\">\n",
       "      <th></th>\n",
       "      <th>Congruent</th>\n",
       "      <th>Incongruent</th>\n",
       "    </tr>\n",
       "  </thead>\n",
       "  <tbody>\n",
       "    <tr>\n",
       "      <th>0</th>\n",
       "      <td>12.079</td>\n",
       "      <td>19.278</td>\n",
       "    </tr>\n",
       "    <tr>\n",
       "      <th>1</th>\n",
       "      <td>16.791</td>\n",
       "      <td>18.741</td>\n",
       "    </tr>\n",
       "    <tr>\n",
       "      <th>2</th>\n",
       "      <td>9.564</td>\n",
       "      <td>21.214</td>\n",
       "    </tr>\n",
       "    <tr>\n",
       "      <th>3</th>\n",
       "      <td>8.630</td>\n",
       "      <td>15.687</td>\n",
       "    </tr>\n",
       "    <tr>\n",
       "      <th>4</th>\n",
       "      <td>14.669</td>\n",
       "      <td>22.803</td>\n",
       "    </tr>\n",
       "  </tbody>\n",
       "</table>\n",
       "</div>"
      ],
      "text/plain": [
       "   Congruent  Incongruent\n",
       "0     12.079       19.278\n",
       "1     16.791       18.741\n",
       "2      9.564       21.214\n",
       "3      8.630       15.687\n",
       "4     14.669       22.803"
      ]
     },
     "execution_count": 1,
     "metadata": {},
     "output_type": "execute_result"
    }
   ],
   "source": [
    "# import all necessary packages\n",
    "import pandas as pd\n",
    "import numpy as np\n",
    "import matplotlib.pyplot as plt\n",
    "from scipy import stats\n",
    "\n",
    "#read and load dataframe\n",
    "df = pd.read_csv('stroopdata.csv')\n",
    "df.head()"
   ]
  },
  {
   "cell_type": "code",
   "execution_count": 28,
   "metadata": {
    "scrolled": true
   },
   "outputs": [
    {
     "name": "stdout",
     "output_type": "stream",
     "text": [
      "<class 'pandas.core.frame.DataFrame'>\n",
      "RangeIndex: 24 entries, 0 to 23\n",
      "Data columns (total 2 columns):\n",
      "Congruent      24 non-null float64\n",
      "Incongruent    24 non-null float64\n",
      "dtypes: float64(2)\n",
      "memory usage: 464.0 bytes\n"
     ]
    }
   ],
   "source": [
    "#check the number of rows for a later test(degrees of freedom)\n",
    "df.info()"
   ]
  },
  {
   "cell_type": "code",
   "execution_count": 5,
   "metadata": {},
   "outputs": [
    {
     "data": {
      "text/plain": [
       "Congruent      14.051125\n",
       "Incongruent    22.015917\n",
       "dtype: float64"
      ]
     },
     "execution_count": 5,
     "metadata": {},
     "output_type": "execute_result"
    }
   ],
   "source": [
    "# compute mean for central tendency\n",
    "df.mean()"
   ]
  },
  {
   "cell_type": "code",
   "execution_count": 4,
   "metadata": {},
   "outputs": [
    {
     "data": {
      "text/plain": [
       "7.9647916666666649"
      ]
     },
     "execution_count": 4,
     "metadata": {},
     "output_type": "execute_result"
    }
   ],
   "source": [
    "# compute difference in means for central tendency\n",
    "df.mean()[1] - df.mean()[0]"
   ]
  },
  {
   "cell_type": "markdown",
   "metadata": {},
   "source": [
    "**Measure of Central Tendency: difference in means is 7.9648**"
   ]
  },
  {
   "cell_type": "code",
   "execution_count": 2,
   "metadata": {},
   "outputs": [
    {
     "data": {
      "text/plain": [
       "Congruent      3.559358\n",
       "Incongruent    4.797057\n",
       "dtype: float64"
      ]
     },
     "execution_count": 2,
     "metadata": {},
     "output_type": "execute_result"
    }
   ],
   "source": [
    "# compute standard deviation for variability\n",
    "np.std(df, ddof= 1)"
   ]
  },
  {
   "cell_type": "code",
   "execution_count": 3,
   "metadata": {},
   "outputs": [
    {
     "data": {
      "text/plain": [
       "4.8648269103590556"
      ]
     },
     "execution_count": 3,
     "metadata": {},
     "output_type": "execute_result"
    }
   ],
   "source": [
    "# compute difference in standard deviation for variability\n",
    "np.std(df['Congruent'] - df['Incongruent'], ddof= 1)"
   ]
  },
  {
   "cell_type": "markdown",
   "metadata": {},
   "source": [
    "**Measure of Variability: difference in standard deviation is 4.8648**"
   ]
  },
  {
   "cell_type": "markdown",
   "metadata": {},
   "source": [
    "(4) Provide one or two visualizations that show the distribution of the sample data. Write one or two sentences noting what you observe about the plot or plots."
   ]
  },
  {
   "cell_type": "code",
   "execution_count": 4,
   "metadata": {
    "scrolled": true
   },
   "outputs": [
    {
     "data": {
      "image/png": "[encoded data removed]",
      "text/plain": [
       "<matplotlib.figure.Figure at 0x7f40d06edcc0>"
      ]
     },
     "metadata": {},
     "output_type": "display_data"
    }
   ],
   "source": [
    "# plot graph and set the labels and titles\n",
    "plt.boxplot([df['Congruent'], df['Incongruent']])\n",
    "plt.xlabel('Group', fontsize= 12)\n",
    "plt.ylabel('Time', fontsize= 12)\n",
    "plt.title('Group Response Times', fontsize=18)\n",
    "plt.xticks((1,2), ('Congruent', 'Incongruent'))\n",
    "\n",
    "# use the magic word\n",
    "plt.show()"
   ]
  },
  {
   "cell_type": "markdown",
   "metadata": {},
   "source": [
    "**The boxplot shows that the average time it takes to pronounce the congruent words is less than the incongruent words. There is an outlier on the incongruent group which skews the plot in one direction.**"
   ]
  },
  {
   "cell_type": "markdown",
   "metadata": {},
   "source": [
    "(5)  Now, perform the statistical test and report your results. What is your confidence level or Type I error associated with your test? What is your conclusion regarding the hypotheses you set up? Did the results match up with your expectations? **Hint:**  Think about what is being measured on each individual, and what statistic best captures how an individual reacts in each environment."
   ]
  },
  {
   "cell_type": "code",
   "execution_count": 5,
   "metadata": {},
   "outputs": [
    {
     "data": {
      "text/plain": [
       "Ttest_relResult(statistic=-8.020706944109957, pvalue=4.1030005857111781e-08)"
      ]
     },
     "execution_count": 5,
     "metadata": {},
     "output_type": "execute_result"
    }
   ],
   "source": [
    "# perform t-test\n",
    "stats.ttest_rel(df['Congruent'], df['Incongruent'])"
   ]
  },
  {
   "cell_type": "code",
   "execution_count": 6,
   "metadata": {},
   "outputs": [
    {
     "data": {
      "text/plain": [
       "-1.7138715277470478"
      ]
     },
     "execution_count": 6,
     "metadata": {},
     "output_type": "execute_result"
    }
   ],
   "source": [
    "# Get the t critical value at 95% confident level\n",
    "stats.t.ppf(0.05, (len(df)-1))"
   ]
  },
  {
   "cell_type": "markdown",
   "metadata": {},
   "source": [
    "**Confidence level = 0.05** <br />\n",
    "\n",
    "**T-Score= -8.0207**<br />\n",
    "\n",
    "**p-value= 4.1030e-08(almost zero)**<br />\n",
    "\n",
    "**Critical value= -1.7138**<br />\n",
    "\n",
    "**Our p-value is virtually zero, which means that is it is smaller than our confidence level of 0.05. We can conclude that our results are statistically significant and not due to chance. The type of words, congruent or incongruent, have an effect on response times to pronouncing the word.** <br />\n",
    "**The absolute value of the t-score,8.0207, is higher than the critical value of 1.7138. This means that there is a significant difference between the two groups. We reject the null hypothesis that the two groups have no difference in means. The results of our t-test matches up with our expectations that there is a significant difference between the two groups.** "
   ]
  },
  {
   "cell_type": "markdown",
   "metadata": {},
   "source": [
    "(6) Optional: What do you think is responsible for the effects observed? Can you think of an alternative or similar task that would result in a similar effect? Some research about the problem will be helpful for thinking about these two questions!"
   ]
  },
  {
   "cell_type": "markdown",
   "metadata": {},
   "source": [
    "According to this link[1](https://faculty.washington.edu/chudler/words.html), it states that there are two reasons why the Stroop Effect has an impact on response times.<br /> \n",
    "\"The words themselves have a strong influence over your ability to say the color. The interference between the different information (what the words say and the color of the words) your brain receives causes a problem. There are two theories that may explain the Stroop effect:<br />\n",
    "**Speed of Processing Theory:** the interference occurs because words are read faster than colors are named.<br />\n",
    "**Selective Attention Theory:** the interference occurs because naming colors requires more attention than reading words.\""
   ]
  },
  {
   "cell_type": "markdown",
   "metadata": {},
   "source": [
    "There is a similar everyday use of the Stroop Effect such as going grocery shopping with a list. When you go grocery shopping, walking down the aisles has every item screaming at you to look for any items on your list. You may overlook the item in a sea of items. However, if you list the needed items on a grocery list and follow the list down, it focuses your attention on finding that one particular item in the line of the list. This is the Selective Attention Theory that has an interference effect similar to the Stroop Effect.[2](https://www.thesimpledollar.com/the-stroop-effect-and-your-wallet/)"
   ]
  },
  {
   "cell_type": "markdown",
   "metadata": {},
   "source": [
    "**References**<br />\n",
    "[Jupyter subcript](https://stackoverflow.com/questions/46011785/how-to-do-superscripts-and-subscripts-in-jupyter-notebook \n",
    "![image.png](attachment:image.png))<br />\n",
    "[One-tailed test vs two-tailed test](http://www.statisticssolutions.com/should-you-use-a-one-tailed-test-or-a-two-tailed-test-for-your-data-analysis/\n",
    "![image.png](attachment:image.png))<br />\n",
    "[Boxplot examples](https://matplotlib.org/examples/pylab_examples/boxplot_demo.html![image.png](attachment:image.png))\n",
    "[Interpretation of results](http://evafengeva.blogspot.com/2017/09/how-to-interpret-results-of-two-sample.html\n",
    "![image.png](attachment:image.png))<br />\n",
    "[T-test statistic function](https://stackoverflow.com/questions/19339305/python-function-to-get-the-t-statistic![image.png](attachment:image.png))<br />\n",
    "[Explanation of results example](https://towardsdatascience.com/inferential-statistics-series-t-test-using-numpy-2718f8f9bf2f\n",
    "![image.png](attachment:image.png))"
   ]
  },
  {
   "cell_type": "code",
   "execution_count": null,
   "metadata": {},
   "outputs": [],
   "source": []
  }
 ],
 "metadata": {
  "kernelspec": {
   "display_name": "Python 3",
   "language": "python",
   "name": "python3"
  },
  "language_info": {
   "codemirror_mode": {
    "name": "ipython",
    "version": 3
   },
   "file_extension": ".py",
   "mimetype": "text/x-python",
   "name": "python",
   "nbconvert_exporter": "python",
   "pygments_lexer": "ipython3",
   "version": "3.6.3"
  }
 },
 "nbformat": 4,
 "nbformat_minor": 2
}
